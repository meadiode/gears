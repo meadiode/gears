{
 "cells": [
  {
   "cell_type": "code",
   "execution_count": 39,
   "metadata": {},
   "outputs": [
    {
     "name": "stderr",
     "output_type": "stream",
     "text": [
      "RuntimeWarning: jupyter_cadquery replay is enabled, turn off with disable_replay()"
     ]
    }
   ],
   "source": [
    "import cadquery as cq\n",
    "from jupyter_cadquery.cadquery import (PartGroup, Part, Edges, Faces, Vertices, show, \n",
    "                                       replay, enable_replay, disable_replay, reset_replay)\n",
    "from jupyter_cadquery import set_sidecar, set_defaults\n",
    "import numpy as np\n",
    "\n",
    "show_object = show"
   ]
  },
  {
   "cell_type": "code",
   "execution_count": 40,
   "metadata": {},
   "outputs": [
    {
     "name": "stderr",
     "output_type": "stream",
     "text": [
      "RuntimeWarning: jupyter_cadquery replay is enabled, turn off with disable_replay()"
     ]
    }
   ],
   "source": [
    "set_sidecar(\"Gears\")"
   ]
  },
  {
   "cell_type": "code",
   "execution_count": 41,
   "metadata": {},
   "outputs": [
    {
     "name": "stdout",
     "output_type": "stream",
     "text": [
      "\n",
      "Enabling jupyter_cadquery replay\n"
     ]
    },
    {
     "name": "stderr",
     "output_type": "stream",
     "text": [
      "RuntimeWarning: jupyter_cadquery replay is enabled, turn off with disable_replay()"
     ]
    }
   ],
   "source": [
    "enable_replay()\n",
    "show_object = replay"
   ]
  },
  {
   "cell_type": "code",
   "execution_count": 42,
   "metadata": {},
   "outputs": [
    {
     "name": "stderr",
     "output_type": "stream",
     "text": [
      "RuntimeWarning: jupyter_cadquery replay is enabled, turn off with disable_replay()"
     ]
    }
   ],
   "source": [
    "set_defaults(axes=True, grid=True, axes0=True, edge_accuracy=0.001, timeit=True)"
   ]
  },
  {
   "cell_type": "code",
   "execution_count": 43,
   "metadata": {},
   "outputs": [
    {
     "name": "stderr",
     "output_type": "stream",
     "text": [
      "RuntimeWarning: jupyter_cadquery replay is enabled, turn off with disable_replay()"
     ]
    }
   ],
   "source": [
    "from math import pi, sin, cos, acos, tan, atan, ceil, radians, degrees, floor\n",
    "import numpy as np\n",
    "clearance = 0.05"
   ]
  },
  {
   "cell_type": "code",
   "execution_count": 44,
   "metadata": {},
   "outputs": [
    {
     "name": "stderr",
     "output_type": "stream",
     "text": [
      "RuntimeWarning: jupyter_cadquery replay is enabled, turn off with disable_replay()"
     ]
    }
   ],
   "source": [
    "def copier(solid, vect, number, distance, winkel):\n",
    "    copies = []\n",
    "    \n",
    "    for i in range(number):\n",
    "        copy = solid.rotate((0.0, 0.0, 0.0), (0.0, 0.0, 1.0), i * winkel)\n",
    "        d = distance * i\n",
    "        copy = copy.translate((vect[0] * d, vect[1] * d, vect[2] * d))\n",
    "        copies.append(copy)\n",
    "    \n",
    "    return copies\n",
    "\n",
    "def polar_to_cartesian(polvect):\n",
    "    return (polvect[0] * cos(polvect[1]),\n",
    "            polvect[0] * sin(polvect[1]))\n",
    "\n",
    "\n",
    "#     Circle Involutes-Function:\n",
    "#     Returns the Polar Coordinates of an Involute Circle\n",
    "#     r = Radius of the Base Circle\n",
    "#     rho = Rolling-angle in Degrees\n",
    "def ev(r, rho):\n",
    "    return (r / cos(rho), tan(rho) - rho)\n",
    "\n",
    "def sphere_to_cartesian(vect):\n",
    "    return (vect[0] * sin(vect[1]) * cos(vect[2]),  \n",
    "            vect[0] * sin(vect[1]) * sin(vect[2]),\n",
    "            vect[0] * cos(vect[1]))\n"
   ]
  },
  {
   "cell_type": "code",
   "execution_count": null,
   "metadata": {},
   "outputs": [],
   "source": [
    "\n",
    "def rack(modul, length, height, width, pressure_angle=20.0, helix_angle=0.0):\n",
    "    # Dimension Calculations\n",
    "    pressure_angle = radians(pressure_angle)\n",
    "    helix_angle = radians(helix_angle)\n",
    "    \n",
    "    modul = modul * (1.0 - clearance)\n",
    "    c = modul / 6.0                                              # Tip Clearance\n",
    "    mx = modul / cos(helix_angle)                                # Module Shift by Helix Angle in the X-Direction\n",
    "    a = 2.0 * mx * tan(pressure_angle) + c * tan(pressure_angle) # Flank Width\n",
    "    b = pi * mx / 2.0 - 2.0 * mx * tan(pressure_angle)           # Tip Width\n",
    "    x = width * tan(helix_angle)                                 # Topside Shift by Helix Angle in the X-Direction\n",
    "    nz = ceil((length + abs(2.0 * x)) / (pi * mx))               # Number of Teeth\n",
    "    \n",
    "    \n",
    "    underside_points = [[0, -c],\n",
    "                        [a, 2.0 * modul],\n",
    "                        [a + b, 2.0 * modul],\n",
    "                        [2.0 * a + b, -c],\n",
    "                        [pi * mx, -c],\n",
    "                        [pi * mx, modul - height],\n",
    "                        [0.0, modul - height]]\n",
    "\n",
    "    topside_points = [[0.0 + x, -c],\n",
    "                      [a + x, 2.0 * modul],\n",
    "                      [a + b + x, 2.0 * modul],\n",
    "                      [2.0 * a + b + x, -c],\n",
    "                      [pi * mx + x, -c],\n",
    "                      [pi * mx + x, modul - height],\n",
    "                      [0.0 + x, modul - height]]\n",
    "    \n",
    "    res = cq.Workplane('XY')\n",
    "    res = res.polyline(underside_points).close()\n",
    "    res = res.workplane(offset=width)\n",
    "    res = res.polyline(topside_points).close()\n",
    "    res = res.loft()\n",
    "    \n",
    "    teeth = copier(res, (1.0, 0.0, 0.0), nz, pi * mx, 0.0)\n",
    "    res = teeth[0]\n",
    "    for t in teeth[1:]:\n",
    "        res = res.union(t)\n",
    "        \n",
    "    box = cq.Workplane().box(length, height + modul + 1.0, width + 1.0, centered=False)\n",
    "    box = box.translate((abs(x), -height + modul - 0.5, -0.5))\n",
    "    res = res.intersect(box)\n",
    "    res = res.translate([-pi * mx * (nz - 1.0) / 2.0 - a - b / 2.0, -modul, 0.0])\n",
    "\n",
    "    return res\n",
    "\n",
    "show_object(rack(modul=1.0, length=60.0, height=5.0, width=20.0, pressure_angle=20.0, helix_angle=0.0))"
   ]
  },
  {
   "cell_type": "code",
   "execution_count": null,
   "metadata": {},
   "outputs": [],
   "source": [
    "\n",
    "def mountable_rack(modul, length, height, width, pressure_angle, helix_angle, fasteners, profile, head):\n",
    "    a_rack = rack(modul, length, height, width, pressure_angle, helix_angle)\n",
    "    offset = length / fasteners;\n",
    "\n",
    "    def ph_screw(idx):\n",
    "        screw = cq.Workplane('XZ')\n",
    "        screw = screw.circle(profile).extrude(profile * 0.6 + modul * 2.25)\n",
    "        screw = screw.faces('>Y').circle(profile / 2.0).extrude(height + modul)\n",
    "        screw = screw.translate((idx * offset + (offset - length) / 2.0, modul, width / 2.0))\n",
    "        return screw\n",
    "    \n",
    "    def cs_screw(idx):\n",
    "        screw = cq.Workplane('XZ')\n",
    "        screw = screw.circle(profile * 1.5 / 2.0).extrude(profile * 1.25 + modul * 2.25)\n",
    "        screw = screw.faces('>Y').circle(profile / 2.0).extrude(height + modul)\n",
    "        screw = screw.translate((idx * offset + (offset - length) / 2.0, modul, width / 2.0))\n",
    "        return screw\n",
    "    \n",
    "    def c_screw(idx):\n",
    "        screw = cq.Workplane('XZ').workplane(modul * 2.25)\n",
    "        screw = screw.circle(profile).workplane(offset=profile / 2.0)\n",
    "        screw = screw.circle(profile / 2.0).loft()\n",
    "        screw = screw.faces('>Y').circle(profile).extrude(-modul * 2.25)\n",
    "        screw = screw.faces('<Y').circle(profile / 2.0).extrude(height + modul)\n",
    "        screw = screw.translate((idx * offset + (offset - length) / 2.0, modul, width / 2.0))\n",
    "        return screw\n",
    "    \n",
    "    def rc_screw(idx):\n",
    "        screw = cq.Workplane('XZ').workplane(modul * 2.25 + profile / 4.0)\n",
    "        screw = screw.circle(profile).workplane(offset=profile / 2.0)\n",
    "        screw = screw.circle(profile / 2.0).loft()\n",
    "        screw = screw.faces('>Y').circle(profile).extrude(-modul * 2.25 - profile / 4.0)\n",
    "        screw = screw.faces('<Y').circle(profile / 2.0).extrude(height + modul)\n",
    "        screw = screw.translate((idx * offset + (offset - length) / 2.0, modul, width / 2.0))\n",
    "        return screw\n",
    "    \n",
    "    def css_screw(idx):\n",
    "        screw = cq.Workplane('XZ').workplane(modul * 2.25)\n",
    "        screw = screw.circle(profile).workplane(offset=profile * 0.6)\n",
    "        screw = screw.circle(profile / 2.0).loft()\n",
    "        screw = screw.faces('>Y').circle(profile).extrude(-modul * 2.25)\n",
    "        screw = screw.faces('<Y').circle(profile / 2.0).extrude(height + modul)\n",
    "        screw = screw.translate((idx * offset + (offset - length) / 2.0, modul, width / 2.0))\n",
    "        return screw\n",
    "    \n",
    "    screw_f = {\n",
    "        'PH': ph_screw,\n",
    "        'CS': cs_screw,\n",
    "        'C': c_screw,\n",
    "        'RC': rc_screw,\n",
    "        'CSS': css_screw,\n",
    "    }[head]\n",
    "    \n",
    "    for i in range(fasteners):\n",
    "        a_rack = a_rack.cut(screw_f(i))\n",
    "    \n",
    "    return a_rack\n",
    "\n",
    "show_object(mountable_rack(modul=1.0, length=60.0, height=10.0, width=20.0,\n",
    "                           pressure_angle=20.0, helix_angle=20.0, profile=3.0, head='CSS',fasteners=3))"
   ]
  },
  {
   "cell_type": "code",
   "execution_count": 102,
   "metadata": {},
   "outputs": [
    {
     "name": "stderr",
     "output_type": "stream",
     "text": [
      "RuntimeWarning: jupyter_cadquery replay is enabled, turn off with disable_replay()"
     ]
    },
    {
     "name": "stdout",
     "output_type": "stream",
     "text": [
      "| | Object: Group\n",
      "| | | discretize time:    0.00 sec\n",
      "| | | edge list:        0.01 sec\n",
      "| | shape render time:    0.01 sec\n",
      "| overall render time:    0.01 sec\n",
      "| create bounding box:    0.00 sec\n",
      "| configure view:       0.04 sec\n",
      "add shapes:             0.06 sec\n",
      "configure display:      0.02 sec\n",
      "Done, using side car 'Gears'\n"
     ]
    },
    {
     "data": {
      "text/plain": [
       "<jupyter_cadquery.cad_display.CadqueryDisplay at 0x7faf86487a90>"
      ]
     },
     "execution_count": 102,
     "metadata": {},
     "output_type": "execute_result"
    }
   ],
   "source": [
    "\n",
    "def involute_gear_profile(module, teeth_number, pressure_angle=20.0, clearance=0.0):\n",
    "    curve_points = 20\n",
    "    m = module\n",
    "    z = teeth_number\n",
    "    a0 = np.radians(pressure_angle)\n",
    "    c = clearance\n",
    "\n",
    "    d0 = m * z         # pitch diameter\n",
    "    da = m * (z + 2.0) # addendum circle diameter\n",
    "    dd = m * (z - 2.0) - 2.0 * c # dedendum circle diameter\n",
    "    s0 = m * (np.pi / 2.0) # tooth thickness on the pitch circle\n",
    "    inv_a0 = tan(a0) - a0 # pressure angle involute\n",
    "\n",
    "    r0 = d0 / 2.0 # pitch circle radius\n",
    "    ra = da / 2.0 # addendum circle radius\n",
    "    rd = dd / 2.0 # dedendum circle radius\n",
    "    rb = np.cos(a0) * r0 # base circle radius\n",
    "    \n",
    "    tau = np.pi * 2.0 / z\n",
    "    \n",
    "    def calc_phi(r):\n",
    "        cos_a = r0 / r * np.cos(a0)\n",
    "        a = np.arccos(cos_a)\n",
    "        inv_a = np.tan(a) - a\n",
    "        s = r * (s0 / d0 + inv_a0 - inv_a)\n",
    "        return s / r\n",
    "    \n",
    "    def rotate_point(x, y, angle):\n",
    "        rx = x * np.cos(angle) - y * np.sin(angle)\n",
    "        ry = x * np.sin(angle) + y * np.cos(angle)\n",
    "        return rx, ry\n",
    "    \n",
    "    def involute_curve(r, angle, mirror):        \n",
    "        phi = calc_phi(r)\n",
    "        if mirror:\n",
    "            phi = -phi\n",
    "        x = np.cos(phi) * r\n",
    "        y = np.sin(phi) * r\n",
    "        \n",
    "        return rotate_point(x, y, angle)\n",
    "    \n",
    "    profile = cq.Workplane('XY')\n",
    "#     profile = profile.circle(rd, False)\n",
    "\n",
    "    rr = max(rb, rd)\n",
    "    \n",
    "    angle = 0.0\n",
    "    for i in range(z):\n",
    "        \n",
    "        profile = profile.parametricCurve(lambda r: involute_curve(r, angle, False),\n",
    "                                          curve_points, rr, ra)\n",
    "        arc_sp = involute_curve(ra, angle, False)\n",
    "        arc_ep = involute_curve(ra, angle, True)\n",
    "        \n",
    "        profile = profile.moveTo(*arc_sp).radiusArc(arc_ep, ra)\n",
    "        profile = profile.parametricCurve(lambda r: involute_curve(r, angle, True),\n",
    "                                          curve_points, rr, ra)\n",
    "        \n",
    "        arc_sp = involute_curve(rr, angle, True)\n",
    "        rho = angle - tau * 0.5\n",
    "        arc_mp = (np.cos(rho) * rd, np.sin(rho) * rd)\n",
    "        arc_ep = involute_curve(rr, angle - tau, False)\n",
    "        \n",
    "        profile = profile.moveTo(*arc_sp).threePointArc(arc_mp, arc_ep)\n",
    "        \n",
    "        angle -= tau\n",
    "\n",
    "    profile = profile.consolidateWires()\n",
    "        \n",
    "    return profile\n",
    "\n",
    "profile = involute_gear_profile(1.0, 8)\n",
    "# profile = profile.twistExtrude(10.0, 150.0)\n",
    "# profile = profile.extrude(10.0)\n",
    "\n",
    "show(profile)\n"
   ]
  },
  {
   "cell_type": "code",
   "execution_count": 116,
   "metadata": {},
   "outputs": [
    {
     "name": "stderr",
     "output_type": "stream",
     "text": [
      "RuntimeWarning: jupyter_cadquery replay is enabled, turn off with disable_replay()"
     ]
    },
    {
     "name": "stdout",
     "output_type": "stream",
     "text": [
      "| | Object: Group\n",
      "| | | (Caching 140391823795120)\n",
      "| | | build mesh time:    0.84 sec\n",
      "| | | discretize time:    0.03 sec\n",
      "| | | edge list:        0.01 sec\n",
      "| | shape render time:    0.89 sec\n",
      "| overall render time:    0.90 sec\n",
      "| create bounding box:    0.23 sec\n",
      "| configure view:       0.04 sec\n",
      "add shapes:             1.17 sec\n",
      "configure display:      0.01 sec\n",
      "Done, using side car 'Gears'\n"
     ]
    },
    {
     "data": {
      "text/plain": [
       "<jupyter_cadquery.cad_display.CadqueryDisplay at 0x7faf84c9e040>"
      ]
     },
     "execution_count": 116,
     "metadata": {},
     "output_type": "execute_result"
    }
   ],
   "source": [
    "def spur_gear(module, teeth_number, width, bore, pressure_angle=20.0, helix_angle=0.0, optimized=True):\n",
    "    # Dimension Calculations\n",
    "    helix_angle = radians(helix_angle)    \n",
    "    d = module * teeth_number                               # Pitch Circle Diameter\n",
    "    r = d / 2                                               # Pitch Circle Radius\n",
    "    c = 0.0 if teeth_number < 3 else module / 6.0           # Tip Clearance\n",
    "    df = d - 2.0 * (module + c)                             # Root Circle Diameter\n",
    "    rf = df / 2.0                                           # Root Radius\n",
    "    gamma = width / (r * np.tan(np.pi / 2.0 - helix_angle)) # Torsion Angle for Extrusion\n",
    "\n",
    "    r_hole = (2.0 * rf - bore) / 8.0                        # Radius of Holes for Material-/Weight-Saving\n",
    "    rm = bore / 2.0 + 2.0 * r_hole                          # Distance of the Axes of the Holes from the Main Axis\n",
    "    z_hole = floor(2 * pi * rm / (3.0 * r_hole))            # Number of Holes for Material-/Weight-Saving\n",
    "    \n",
    "    res = involute_gear_profile(module, teeth_number, pressure_angle)\n",
    "    res = res.twistExtrude(width, np.degrees(gamma)) \n",
    "\n",
    "    # \"bore\"\n",
    "    res = res.faces('<Z').circle(rm + r_hole * 1.49).cutThruAll()\n",
    "    \n",
    "    body = cq.Workplane('XY')\n",
    "    if optimized:\n",
    "        res = (res.faces('<Z').\n",
    "               circle((bore + r_hole) / 2.0).\n",
    "               circle(bore / 2.0).\n",
    "               extrude(width))\n",
    "        \n",
    "        if (width - r_hole / 2.0) < (width * 2.0 / 3.0):\n",
    "            ht = width * 2.0 / 3.0\n",
    "        else:\n",
    "            ht = width - r_hole / 2.0\n",
    "    \n",
    "        body = body.circle(rm + r_hole * 1.51)\n",
    "        body = body.circle((bore + r_hole) / 2.0)\n",
    "        for i in range(z_hole):\n",
    "            pos = sphere_to_cartesian((rm, pi / 2.0, i * pi * 2.0 / z_hole))\n",
    "            body = body.moveTo(pos[0], pos[1]).circle(r_hole)\n",
    "        body = body.consolidateWires().extrude(ht)\n",
    "    else:\n",
    "        body = body.circle(rm + r_hole * 1.51)\n",
    "        body = body.circle(bore / 2.0)\n",
    "        body = body.consolidateWires().extrude(width)\n",
    "\n",
    "    res = res.union(body)\n",
    "    return res\n",
    "    \n",
    "gear = spur_gear(module=1.0, teeth_number=60, width=5.0, bore=5.0, pressure_angle=20.0, helix_angle=20.0, optimized=True)\n",
    "show(gear)\n"
   ]
  },
  {
   "cell_type": "code",
   "execution_count": null,
   "metadata": {},
   "outputs": [],
   "source": []
  }
 ],
 "metadata": {
  "kernelspec": {
   "display_name": "Python 3",
   "language": "python",
   "name": "python3"
  },
  "language_info": {
   "codemirror_mode": {
    "name": "ipython",
    "version": 3
   },
   "file_extension": ".py",
   "mimetype": "text/x-python",
   "name": "python",
   "nbconvert_exporter": "python",
   "pygments_lexer": "ipython3",
   "version": "3.8.8"
  }
 },
 "nbformat": 4,
 "nbformat_minor": 4
}
