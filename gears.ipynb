{
 "cells": [
  {
   "cell_type": "code",
   "execution_count": 1,
   "metadata": {},
   "outputs": [
    {
     "name": "stdout",
     "output_type": "stream",
     "text": [
      "Overwriting auto display for cadquery Workplane and Shape\n"
     ]
    }
   ],
   "source": [
    "import cadquery as cq\n",
    "from jupyter_cadquery.cadquery import (PartGroup, Part, Edges, Faces, Vertices, show, \n",
    "                                       replay, enable_replay, disable_replay, reset_replay)\n",
    "from jupyter_cadquery import set_sidecar, set_defaults\n",
    "import numpy as np\n",
    "\n",
    "show_object = show"
   ]
  },
  {
   "cell_type": "code",
   "execution_count": 2,
   "metadata": {},
   "outputs": [],
   "source": [
    "set_sidecar(\"Gears\")"
   ]
  },
  {
   "cell_type": "code",
   "execution_count": 3,
   "metadata": {},
   "outputs": [
    {
     "name": "stdout",
     "output_type": "stream",
     "text": [
      "\n",
      "Enabling jupyter_cadquery replay\n"
     ]
    }
   ],
   "source": [
    "enable_replay()\n",
    "show_object = replay"
   ]
  },
  {
   "cell_type": "code",
   "execution_count": 4,
   "metadata": {},
   "outputs": [
    {
     "name": "stderr",
     "output_type": "stream",
     "text": [
      "RuntimeWarning: jupyter_cadquery replay is enabled, turn off with disable_replay()"
     ]
    }
   ],
   "source": [
    "set_defaults(axes=True, grid=True, axes0=True, edge_accuracy=0.001, timeit=True)"
   ]
  },
  {
   "cell_type": "code",
   "execution_count": 5,
   "metadata": {},
   "outputs": [
    {
     "name": "stderr",
     "output_type": "stream",
     "text": [
      "RuntimeWarning: jupyter_cadquery replay is enabled, turn off with disable_replay()"
     ]
    }
   ],
   "source": [
    "from math import pi, sin, cos, acos, tan, atan, ceil, radians, degrees, floor\n",
    "import numpy as np\n",
    "clearance = 0.05"
   ]
  },
  {
   "cell_type": "code",
   "execution_count": 6,
   "metadata": {},
   "outputs": [
    {
     "name": "stderr",
     "output_type": "stream",
     "text": [
      "RuntimeWarning: jupyter_cadquery replay is enabled, turn off with disable_replay()"
     ]
    }
   ],
   "source": [
    "def copier(solid, vect, number, distance, winkel):\n",
    "    copies = []\n",
    "    \n",
    "    for i in range(number):\n",
    "        copy = solid.rotate((0.0, 0.0, 0.0), (0.0, 0.0, 1.0), i * winkel)\n",
    "        d = distance * i\n",
    "        copy = copy.translate((vect[0] * d, vect[1] * d, vect[2] * d))\n",
    "        copies.append(copy)\n",
    "    \n",
    "    return copies\n",
    "\n",
    "def polar_to_cartesian(polvect):\n",
    "    return (polvect[0] * cos(polvect[1]),\n",
    "            polvect[0] * sin(polvect[1]))\n",
    "\n",
    "\n",
    "#     Circle Involutes-Function:\n",
    "#     Returns the Polar Coordinates of an Involute Circle\n",
    "#     r = Radius of the Base Circle\n",
    "#     rho = Rolling-angle in Degrees\n",
    "def ev(r, rho):\n",
    "    return (r / cos(rho), tan(rho) - rho)\n",
    "\n",
    "def sphere_to_cartesian(vect):\n",
    "    return (vect[0] * sin(vect[1]) * cos(vect[2]),  \n",
    "            vect[0] * sin(vect[1]) * sin(vect[2]),\n",
    "            vect[0] * cos(vect[1]))\n"
   ]
  },
  {
   "cell_type": "code",
   "execution_count": null,
   "metadata": {},
   "outputs": [],
   "source": [
    "\n",
    "def rack(modul, length, height, width, pressure_angle=20.0, helix_angle=0.0):\n",
    "    # Dimension Calculations\n",
    "    pressure_angle = radians(pressure_angle)\n",
    "    helix_angle = radians(helix_angle)\n",
    "    \n",
    "    modul = modul * (1.0 - clearance)\n",
    "    c = modul / 6.0                                              # Tip Clearance\n",
    "    mx = modul / cos(helix_angle)                                # Module Shift by Helix Angle in the X-Direction\n",
    "    a = 2.0 * mx * tan(pressure_angle) + c * tan(pressure_angle) # Flank Width\n",
    "    b = pi * mx / 2.0 - 2.0 * mx * tan(pressure_angle)           # Tip Width\n",
    "    x = width * tan(helix_angle)                                 # Topside Shift by Helix Angle in the X-Direction\n",
    "    nz = ceil((length + abs(2.0 * x)) / (pi * mx))               # Number of Teeth\n",
    "    \n",
    "    \n",
    "    underside_points = [[0, -c],\n",
    "                        [a, 2.0 * modul],\n",
    "                        [a + b, 2.0 * modul],\n",
    "                        [2.0 * a + b, -c],\n",
    "                        [pi * mx, -c],\n",
    "                        [pi * mx, modul - height],\n",
    "                        [0.0, modul - height]]\n",
    "\n",
    "    topside_points = [[0.0 + x, -c],\n",
    "                      [a + x, 2.0 * modul],\n",
    "                      [a + b + x, 2.0 * modul],\n",
    "                      [2.0 * a + b + x, -c],\n",
    "                      [pi * mx + x, -c],\n",
    "                      [pi * mx + x, modul - height],\n",
    "                      [0.0 + x, modul - height]]\n",
    "    \n",
    "    res = cq.Workplane('XY')\n",
    "    res = res.polyline(underside_points).close()\n",
    "    res = res.workplane(offset=width)\n",
    "    res = res.polyline(topside_points).close()\n",
    "    res = res.loft()\n",
    "    \n",
    "    teeth = copier(res, (1.0, 0.0, 0.0), nz, pi * mx, 0.0)\n",
    "    res = teeth[0]\n",
    "    for t in teeth[1:]:\n",
    "        res = res.union(t)\n",
    "        \n",
    "    box = cq.Workplane().box(length, height + modul + 1.0, width + 1.0, centered=False)\n",
    "    box = box.translate((abs(x), -height + modul - 0.5, -0.5))\n",
    "    res = res.intersect(box)\n",
    "    res = res.translate([-pi * mx * (nz - 1.0) / 2.0 - a - b / 2.0, -modul, 0.0])\n",
    "\n",
    "    return res\n",
    "\n",
    "show_object(rack(modul=1.0, length=60.0, height=5.0, width=20.0, pressure_angle=20.0, helix_angle=0.0))"
   ]
  },
  {
   "cell_type": "code",
   "execution_count": null,
   "metadata": {},
   "outputs": [],
   "source": [
    "\n",
    "def mountable_rack(modul, length, height, width, pressure_angle, helix_angle, fasteners, profile, head):\n",
    "    a_rack = rack(modul, length, height, width, pressure_angle, helix_angle)\n",
    "    offset = length / fasteners;\n",
    "\n",
    "    def ph_screw(idx):\n",
    "        screw = cq.Workplane('XZ')\n",
    "        screw = screw.circle(profile).extrude(profile * 0.6 + modul * 2.25)\n",
    "        screw = screw.faces('>Y').circle(profile / 2.0).extrude(height + modul)\n",
    "        screw = screw.translate((idx * offset + (offset - length) / 2.0, modul, width / 2.0))\n",
    "        return screw\n",
    "    \n",
    "    def cs_screw(idx):\n",
    "        screw = cq.Workplane('XZ')\n",
    "        screw = screw.circle(profile * 1.5 / 2.0).extrude(profile * 1.25 + modul * 2.25)\n",
    "        screw = screw.faces('>Y').circle(profile / 2.0).extrude(height + modul)\n",
    "        screw = screw.translate((idx * offset + (offset - length) / 2.0, modul, width / 2.0))\n",
    "        return screw\n",
    "    \n",
    "    def c_screw(idx):\n",
    "        screw = cq.Workplane('XZ').workplane(modul * 2.25)\n",
    "        screw = screw.circle(profile).workplane(offset=profile / 2.0)\n",
    "        screw = screw.circle(profile / 2.0).loft()\n",
    "        screw = screw.faces('>Y').circle(profile).extrude(-modul * 2.25)\n",
    "        screw = screw.faces('<Y').circle(profile / 2.0).extrude(height + modul)\n",
    "        screw = screw.translate((idx * offset + (offset - length) / 2.0, modul, width / 2.0))\n",
    "        return screw\n",
    "    \n",
    "    def rc_screw(idx):\n",
    "        screw = cq.Workplane('XZ').workplane(modul * 2.25 + profile / 4.0)\n",
    "        screw = screw.circle(profile).workplane(offset=profile / 2.0)\n",
    "        screw = screw.circle(profile / 2.0).loft()\n",
    "        screw = screw.faces('>Y').circle(profile).extrude(-modul * 2.25 - profile / 4.0)\n",
    "        screw = screw.faces('<Y').circle(profile / 2.0).extrude(height + modul)\n",
    "        screw = screw.translate((idx * offset + (offset - length) / 2.0, modul, width / 2.0))\n",
    "        return screw\n",
    "    \n",
    "    def css_screw(idx):\n",
    "        screw = cq.Workplane('XZ').workplane(modul * 2.25)\n",
    "        screw = screw.circle(profile).workplane(offset=profile * 0.6)\n",
    "        screw = screw.circle(profile / 2.0).loft()\n",
    "        screw = screw.faces('>Y').circle(profile).extrude(-modul * 2.25)\n",
    "        screw = screw.faces('<Y').circle(profile / 2.0).extrude(height + modul)\n",
    "        screw = screw.translate((idx * offset + (offset - length) / 2.0, modul, width / 2.0))\n",
    "        return screw\n",
    "    \n",
    "    screw_f = {\n",
    "        'PH': ph_screw,\n",
    "        'CS': cs_screw,\n",
    "        'C': c_screw,\n",
    "        'RC': rc_screw,\n",
    "        'CSS': css_screw,\n",
    "    }[head]\n",
    "    \n",
    "    for i in range(fasteners):\n",
    "        a_rack = a_rack.cut(screw_f(i))\n",
    "    \n",
    "    return a_rack\n",
    "\n",
    "show_object(mountable_rack(modul=1.0, length=60.0, height=10.0, width=20.0,\n",
    "                           pressure_angle=20.0, helix_angle=20.0, profile=3.0, head='CSS',fasteners=3))"
   ]
  },
  {
   "cell_type": "code",
   "execution_count": 20,
   "metadata": {},
   "outputs": [
    {
     "name": "stderr",
     "output_type": "stream",
     "text": [
      "RuntimeWarning: jupyter_cadquery replay is enabled, turn off with disable_replay()"
     ]
    },
    {
     "name": "stdout",
     "output_type": "stream",
     "text": [
      "| | Object: Group\n",
      "| | | discretize time:    0.00 sec\n",
      "| | | edge list:        0.01 sec\n",
      "| | shape render time:    0.01 sec\n",
      "| overall render time:    0.01 sec\n",
      "| create bounding box:    0.00 sec\n",
      "| configure view:       0.04 sec\n",
      "add shapes:             0.06 sec\n",
      "configure display:      0.01 sec\n",
      "Done, using side car 'Gears'\n"
     ]
    },
    {
     "data": {
      "text/plain": [
       "<jupyter_cadquery.cad_display.CadqueryDisplay at 0x7f9baaff5100>"
      ]
     },
     "execution_count": 20,
     "metadata": {},
     "output_type": "execute_result"
    }
   ],
   "source": [
    "\n",
    "def involute_gear_profile(module, teeth_number, pressure_angle=20.0, clearance=0.0, plane=None):\n",
    "    curve_points = 20\n",
    "    m = module\n",
    "    z = teeth_number\n",
    "    a0 = np.radians(pressure_angle)\n",
    "    c = clearance\n",
    "\n",
    "    d0 = m * z         # pitch diameter\n",
    "    da = m * (z + 2.0) # addendum circle diameter\n",
    "    dd = m * (z - 2.0) - 2.0 * c # dedendum circle diameter\n",
    "    s0 = m * (np.pi / 2.0) # tooth thickness on the pitch circle\n",
    "    inv_a0 = tan(a0) - a0 # pressure angle involute\n",
    "\n",
    "    r0 = d0 / 2.0 # pitch circle radius\n",
    "    ra = da / 2.0 # addendum circle radius\n",
    "    rd = dd / 2.0 # dedendum circle radius\n",
    "    rb = np.cos(a0) * r0 # base circle radius\n",
    "    \n",
    "    tau = np.pi * 2.0 / z\n",
    "    \n",
    "    def calc_phi(r):\n",
    "        cos_a = r0 / r * np.cos(a0)\n",
    "        a = np.arccos(cos_a)\n",
    "        inv_a = np.tan(a) - a\n",
    "        s = r * (s0 / d0 + inv_a0 - inv_a)\n",
    "        return s / r\n",
    "    \n",
    "    def rotate_point(x, y, angle):\n",
    "        rx = x * np.cos(angle) - y * np.sin(angle)\n",
    "        ry = x * np.sin(angle) + y * np.cos(angle)\n",
    "        return rx, ry\n",
    "    \n",
    "    def involute_curve(r, angle, mirror):        \n",
    "        phi = calc_phi(r)\n",
    "        if mirror:\n",
    "            phi = -phi\n",
    "        x = np.cos(phi) * r\n",
    "        y = np.sin(phi) * r\n",
    "        \n",
    "        return rotate_point(x, y, angle)\n",
    "    \n",
    "    if plane is None:\n",
    "        profile = cq.Workplane('XY')\n",
    "    else:\n",
    "        profile = plane\n",
    "        \n",
    "    rr = max(rb, rd)\n",
    "    \n",
    "    angle = 0.0\n",
    "    for i in range(z):\n",
    "        \n",
    "        profile = profile.parametricCurve(lambda r: involute_curve(r, angle, False),\n",
    "                                          curve_points, rr, ra)\n",
    "        arc_sp = involute_curve(ra, angle, False)\n",
    "        arc_ep = involute_curve(ra, angle, True)\n",
    "        \n",
    "        profile = profile.moveTo(*arc_sp).radiusArc(arc_ep, ra)\n",
    "        profile = profile.parametricCurve(lambda r: involute_curve(r, angle, True),\n",
    "                                          curve_points, rr, ra)\n",
    "        \n",
    "        arc_sp = involute_curve(rr, angle, True)\n",
    "        rho = angle - tau * 0.5\n",
    "        arc_mp = (np.cos(rho) * rd, np.sin(rho) * rd)\n",
    "        arc_ep = involute_curve(rr, angle - tau, False)\n",
    "        \n",
    "        profile = profile.moveTo(*arc_sp).threePointArc(arc_mp, arc_ep)\n",
    "        \n",
    "        angle -= tau\n",
    "\n",
    "    profile = profile.consolidateWires()\n",
    "        \n",
    "    return profile\n",
    "\n",
    "profile = involute_gear_profile(1.0, 8)\n",
    "# profile = profile.twistExtrude(10.0, 150.0)\n",
    "# profile = profile.extrude(10.0)\n",
    "\n",
    "show(profile)\n"
   ]
  },
  {
   "cell_type": "code",
   "execution_count": 25,
   "metadata": {},
   "outputs": [
    {
     "name": "stderr",
     "output_type": "stream",
     "text": [
      "RuntimeWarning: jupyter_cadquery replay is enabled, turn off with disable_replay()"
     ]
    },
    {
     "name": "stdout",
     "output_type": "stream",
     "text": [
      "| | Object: Group\n",
      "| | | (Caching 140306554226672)\n",
      "| | | build mesh time:    0.85 sec\n",
      "| | | discretize time:    0.03 sec\n",
      "| | | edge list:        0.02 sec\n",
      "| | shape render time:    0.91 sec\n",
      "| overall render time:    0.92 sec\n",
      "| create bounding box:    0.26 sec\n",
      "| configure view:       0.04 sec\n",
      "add shapes:             1.21 sec\n",
      "configure display:      0.01 sec\n",
      "Done, using side car 'Gears'\n"
     ]
    },
    {
     "data": {
      "text/plain": [
       "<jupyter_cadquery.cad_display.CadqueryDisplay at 0x7f9baa4ebd90>"
      ]
     },
     "execution_count": 25,
     "metadata": {},
     "output_type": "execute_result"
    }
   ],
   "source": [
    "def spur_gear(module, teeth_number, width, bore, pressure_angle=20.0, helix_angle=0.0, optimized=True, herringbone=False):\n",
    "    # Dimension Calculations\n",
    "    helix_angle = radians(helix_angle)    \n",
    "    d = module * teeth_number                               # Pitch Circle Diameter\n",
    "    r = d / 2                                               # Pitch Circle Radius\n",
    "    c = 0.0 if teeth_number < 3 else module / 6.0           # Tip Clearance\n",
    "    df = d - 2.0 * (module + c)                             # Root Circle Diameter\n",
    "    rf = df / 2.0                                           # Root Radius\n",
    "    gamma = width / (r * np.tan(np.pi / 2.0 - helix_angle)) # Torsion Angle for Extrusion\n",
    "\n",
    "    r_hole = (2.0 * rf - bore) / 8.0                        # Radius of Holes for Material-/Weight-Saving\n",
    "    rm = bore / 2.0 + 2.0 * r_hole                          # Distance of the Axes of the Holes from the Main Axis\n",
    "    z_hole = floor(2 * pi * rm / (3.0 * r_hole))            # Number of Holes for Material-/Weight-Saving\n",
    "    \n",
    "    profile = involute_gear_profile(module, teeth_number, pressure_angle)\n",
    "    if herringbone:\n",
    "        res = profile.twistExtrude(width / 2.0, np.degrees(gamma))\n",
    "        other_half = res.mirror('XY', (0.0, 0.0, width / 2.0))\n",
    "        res = res.union(other_half)\n",
    "    else:\n",
    "        res = profile.twistExtrude(width, np.degrees(gamma)) \n",
    "\n",
    "    # \"bore\"\n",
    "    res = res.faces('<Z').circle(rm + r_hole * 1.49).cutThruAll()\n",
    "    \n",
    "    body = cq.Workplane('XY')\n",
    "    if optimized:\n",
    "        res = (res.faces('<Z').\n",
    "               circle((bore + r_hole) / 2.0).\n",
    "               circle(bore / 2.0).\n",
    "               extrude(width))\n",
    "        \n",
    "        if (width - r_hole / 2.0) < (width * 2.0 / 3.0):\n",
    "            ht = width * 2.0 / 3.0\n",
    "        else:\n",
    "            ht = width - r_hole / 2.0\n",
    "    \n",
    "        body = body.circle(rm + r_hole * 1.51)\n",
    "        body = body.circle((bore + r_hole) / 2.0)\n",
    "        for i in range(z_hole):\n",
    "            pos = sphere_to_cartesian((rm, pi / 2.0, i * pi * 2.0 / z_hole))\n",
    "            body = body.moveTo(pos[0], pos[1]).circle(r_hole)\n",
    "        body = body.consolidateWires().extrude(ht)\n",
    "    else:\n",
    "        body = body.circle(rm + r_hole * 1.51)\n",
    "        body = body.circle(bore / 2.0)\n",
    "        body = body.consolidateWires().extrude(width)\n",
    "\n",
    "    res = res.union(body)\n",
    "    return res\n",
    "\n",
    "def herringbone_gear(module, teeth_number, width, bore, pressure_angle=20.0,\n",
    "                      helix_angle=0.0, optimized=True):\n",
    "    return spur_gear(module, teeth_number, width, bore, pressure_angle,\n",
    "                     helix_angle, optimized, herringbone=True)\n",
    "\n",
    "gear = spur_gear(module=1.0, teeth_number=60, width=10.0, bore=5.0, pressure_angle=20.0, helix_angle=20.0, optimized=True)\n",
    "show(gear)\n"
   ]
  },
  {
   "cell_type": "code",
   "execution_count": 23,
   "metadata": {},
   "outputs": [
    {
     "name": "stderr",
     "output_type": "stream",
     "text": [
      "RuntimeWarning: jupyter_cadquery replay is enabled, turn off with disable_replay()"
     ]
    },
    {
     "name": "stdout",
     "output_type": "stream",
     "text": [
      "| | Object: Group\n",
      "| | | (Caching 140306549283504)\n",
      "| | | build mesh time:    1.61 sec\n",
      "| | | discretize time:    0.08 sec\n",
      "| | | edge list:        0.05 sec\n",
      "| | shape render time:    1.75 sec\n",
      "| overall render time:    1.76 sec\n",
      "| create bounding box:    0.88 sec\n",
      "| configure view:       0.04 sec\n",
      "add shapes:             2.67 sec\n",
      "configure display:      0.01 sec\n",
      "Done, using side car 'Gears'\n"
     ]
    },
    {
     "data": {
      "text/plain": [
       "<jupyter_cadquery.cad_display.CadqueryDisplay at 0x7f9baa0738b0>"
      ]
     },
     "execution_count": 23,
     "metadata": {},
     "output_type": "execute_result"
    }
   ],
   "source": [
    "gear = herringbone_gear(module=1.0, teeth_number=42, width=50.0, bore=5.0, pressure_angle=20.0, helix_angle=20.0, optimized=True)\n",
    "show(gear)"
   ]
  },
  {
   "cell_type": "code",
   "execution_count": 10,
   "metadata": {},
   "outputs": [
    {
     "name": "stderr",
     "output_type": "stream",
     "text": [
      "RuntimeWarning: jupyter_cadquery replay is enabled, turn off with disable_replay()"
     ]
    },
    {
     "name": "stdout",
     "output_type": "stream",
     "text": [
      "| | Object: Group\n",
      "| | | (Caching 140306566820272)\n",
      "| | | build mesh time:    0.38 sec\n",
      "| | | discretize time:    0.01 sec\n",
      "| | | edge list:        0.01 sec\n",
      "| | shape render time:    0.39 sec\n",
      "| overall render time:    0.40 sec\n",
      "| create bounding box:    0.00 sec\n",
      "| configure view:       0.04 sec\n",
      "add shapes:             0.44 sec\n",
      "configure display:      0.01 sec\n",
      "Done, using side car 'Gears'\n"
     ]
    }
   ],
   "source": [
    "plane = cq.Workplane('XY')\n",
    "\n",
    "c1 = involute_gear_profile(1.5, 12)\n",
    "c2 = involute_gear_profile(0.5, 12, plane=c1.workplane(10.0).transformed(rotate=(0.0, 0.0, 7)))\n",
    "\n",
    "c2.loft(ruled=True)"
   ]
  },
  {
   "cell_type": "code",
   "execution_count": 162,
   "metadata": {},
   "outputs": [
    {
     "name": "stderr",
     "output_type": "stream",
     "text": [
      "RuntimeWarning: jupyter_cadquery replay is enabled, turn off with disable_replay()"
     ]
    },
    {
     "data": {
      "text/plain": [
       "15.0"
      ]
     },
     "execution_count": 162,
     "metadata": {},
     "output_type": "execute_result"
    }
   ],
   "source": [
    "360 / 24.0"
   ]
  },
  {
   "cell_type": "code",
   "execution_count": 26,
   "metadata": {},
   "outputs": [
    {
     "name": "stderr",
     "output_type": "stream",
     "text": [
      "RuntimeWarning: jupyter_cadquery replay is enabled, turn off with disable_replay()"
     ]
    },
    {
     "name": "stdout",
     "output_type": "stream",
     "text": [
      "| | Object: Group\n",
      "| | | (Caching 140306529072688)\n",
      "| | | build mesh time:    1.66 sec\n",
      "| | | discretize time:    0.00 sec\n",
      "| | | edge list:        0.00 sec\n",
      "| | shape render time:    1.66 sec\n",
      "| overall render time:    1.67 sec\n",
      "| create bounding box:    0.00 sec\n",
      "| configure view:       0.04 sec\n",
      "add shapes:             1.71 sec\n",
      "configure display:      0.01 sec\n",
      "Done, using side car 'Gears'\n"
     ]
    }
   ],
   "source": [
    "plane = cq.Workplane('XY')\n",
    "plane = plane.rect(2.5, 2.5).workplane(0.5).transformed(rotate=(0.0, 0.0, 45)).rect(2.0, 2.0)\n",
    "plane = plane.workplane(0.5).transformed(rotate=(0.0, 0.0, 45)).rect(1.5, 1.5)\n",
    "plane = plane.workplane(0.5).transformed(rotate=(0.0, 0.0, 45)).rect(1.0, 1.5)\n",
    "plane = plane.workplane(0.5).transformed(rotate=(0.0, 0.0, 45)).rect(0.5, 0.5)\n",
    "plane = plane.loft()\n",
    "plane"
   ]
  },
  {
   "cell_type": "code",
   "execution_count": 41,
   "metadata": {},
   "outputs": [
    {
     "name": "stderr",
     "output_type": "stream",
     "text": [
      "RuntimeWarning: jupyter_cadquery replay is enabled, turn off with disable_replay()"
     ]
    },
    {
     "name": "stdout",
     "output_type": "stream",
     "text": [
      "| | Object: Group\n",
      "| | | discretize time:    0.00 sec\n",
      "| | | edge list:        0.01 sec\n",
      "| | shape render time:    0.01 sec\n",
      "| overall render time:    0.01 sec\n",
      "| create bounding box:    0.00 sec\n",
      "| configure view:       0.04 sec\n",
      "add shapes:             0.05 sec\n",
      "configure display:      0.01 sec\n",
      "Done, using side car 'Gears'\n"
     ]
    },
    {
     "data": {
      "text/plain": [
       "<jupyter_cadquery.cad_display.CadqueryDisplay at 0x7f9ba8bf7250>"
      ]
     },
     "execution_count": 41,
     "metadata": {},
     "output_type": "execute_result"
    }
   ],
   "source": [
    "def senv(theta0, theta):\n",
    "    res = 1.0 / np.sin(theta0) * np.arccos(np.cos(theta) / np.cos(theta0))\n",
    "    res -= np.arccos(np.tan(theta0) / np.tan(theta))\n",
    "    return res\n",
    "\n",
    "def sphere_to_cartesian(r, theta, phi):\n",
    "    return (r * np.sin(theta) * np.cos(phi),\n",
    "            r * np.sin(theta) * np.sin(phi),\n",
    "            r * -np.cos(theta))\n",
    "\n",
    "def bevel_involute_gear_profile(module, teeth_number, pressure_angle=20.0, partial_cone_angle=45.0, helix_angle=0.0, clearance=0.0, plane=None):\n",
    "    partial_cone_angle = np.radians(partial_cone_angle)\n",
    "    pressure_angle = np.radians(pressure_angle)\n",
    "    helix_angle = np.radians(helix_angle)\n",
    "    curve_points = 20\n",
    "    \n",
    "    d_outside = module * teeth_number;                # Part Cone Diameter at the Cone Base,\n",
    "                                                      # corresponds to the Chord in a Spherical Section\n",
    "    r_outside = d_outside / 2.0\n",
    "    rg_outside = r_outside / np.sin(partial_cone_angle) # Large-Cone Radius for Outside-Tooth, corresponds to the Length of the Cone-Flank;\n",
    "#     rg_inside = rg_outside - tooth_width                # Large-Cone Radius for Inside-Tooth  \n",
    "#     r_inside = r_outside * rg_inside/rg_outside\n",
    "    c = clearance                                     # Tip Clearance\n",
    "    df_outside = d_outside - (module + c) * 2.0 * np.cos(partial_cone_angle)\n",
    "    rf_outside = df_outside / 2.0\n",
    "\n",
    "    da_outside = d_outside + module * np.cos(partial_cone_angle) * 2.0\n",
    "    \n",
    "    if module < 1.0:\n",
    "        da_outside *= 1.1\n",
    "\n",
    "    ra_outside = da_outside / 2.0\n",
    "    delta_a = np.arcsin(ra_outside / rg_outside)\n",
    "\n",
    "    alpha_spur = np.arctan(np.tan(pressure_angle) / np.cos(helix_angle)) # Helix Angle in Transverse Section\n",
    "    delta_b = np.arcsin(np.cos(alpha_spur) * np.sin(partial_cone_angle)) # Base Cone Angle  \n",
    "    delta_f = np.arcsin(rf_outside / rg_outside)\n",
    "\n",
    "    phi_r = senv(delta_b, partial_cone_angle) # Angle to Point of Involute on Partial Cone\n",
    "    mirrpoint = np.pi / teeth_number + 2.0 * phi_r\n",
    "\n",
    "    height_f = rg_outside * np.cos(delta_f)\n",
    "\n",
    "    start = max(delta_b, delta_f)\n",
    "\n",
    "    step = (delta_a - delta_b) / 16.0;\n",
    "    \n",
    "    \n",
    "    \n",
    "    if plane is None:\n",
    "        profile = cq.Workplane('XY')\n",
    "    else:\n",
    "        profile = plane\n",
    "        \n",
    "    \n",
    "    def involute_curve(theta, angle, mirror):\n",
    "        phi = senv(delta_b, theta)\n",
    "        r = height_f / np.cos(theta)\n",
    "        if mirror:\n",
    "            x, y, z = sphere_to_cartesian(r, theta, mirrpoint - phi)\n",
    "        else:\n",
    "            x, y, z = sphere_to_cartesian(r, theta, phi)\n",
    "        \n",
    "        return x, y\n",
    "\n",
    "    \n",
    "    \n",
    "    profile = profile.parametricCurve(lambda t: involute_curve(t, 0.0, False),\n",
    "                                      curve_points, start, delta_a)\n",
    "    profile = profile.parametricCurve(lambda t: involute_curve(t, 0.0, True),\n",
    "                                      curve_points, start, delta_a)\n",
    "    profile = profile.consolidateWires()\n",
    "    return profile\n",
    "\n",
    "#     x, y, z = np.ndarray(0), np.ndarray(0), np.ndarray(0)\n",
    "#     px, py, pz = np.ndarray(0), np.ndarray(0), np.ndarray(0)\n",
    "\n",
    "#     for tau in np.linspace(0.0, np.pi * 2.0, teeth_number):\n",
    "#         delta = np.arange(start, delta_a, step)\n",
    "#         phis = senv(delta_b, delta)\n",
    "#         rs = np.full(delta.shape[0], rg_outside)\n",
    "\n",
    "#         x1, y1, z1 = sphere_to_cartesian(rs, delta, phis + tau)\n",
    "#         x2, y2, z2 = sphere_to_cartesian(rs, delta, mirrpoint - phis + tau)\n",
    "\n",
    "#         x = np.concatenate((x, x1, x2[::-1]))\n",
    "#         y = np.concatenate((y, y1, y2[::-1]))\n",
    "#         z = np.concatenate((z, z1 + height_f, z2[::-1] + height_f))\n",
    "\n",
    "#         rp = height_f / np.cos(delta)\n",
    "\n",
    "#         px1, py1, pz1 = sphere_to_cartesian(rp, delta, phis + tau)\n",
    "#         px2, py2, pz2 = sphere_to_cartesian(rp, delta, mirrpoint - phis + tau)\n",
    "\n",
    "#         px = np.concatenate((px, px1, px2[::-1]))\n",
    "#         py = np.concatenate((py, py1, py2[::-1]))\n",
    "#         pz = np.concatenate((pz, pz1 + height_f, pz2[::-1] + height_f))\n",
    "\n",
    "prof = bevel_involute_gear_profile(1.0, 18, pressure_angle=20.0, partial_cone_angle=45.0)\n",
    "show(prof)"
   ]
  },
  {
   "cell_type": "code",
   "execution_count": 27,
   "metadata": {},
   "outputs": [
    {
     "name": "stderr",
     "output_type": "stream",
     "text": [
      "RuntimeWarning: jupyter_cadquery replay is enabled, turn off with disable_replay()"
     ]
    },
    {
     "data": {
      "text/plain": [
       "1.1"
      ]
     },
     "execution_count": 27,
     "metadata": {},
     "output_type": "execute_result"
    }
   ],
   "source": [
    "2.2 / 2.0"
   ]
  },
  {
   "cell_type": "code",
   "execution_count": 69,
   "metadata": {},
   "outputs": [
    {
     "name": "stderr",
     "output_type": "stream",
     "text": [
      "RuntimeWarning: jupyter_cadquery replay is enabled, turn off with disable_replay()"
     ]
    },
    {
     "name": "stdout",
     "output_type": "stream",
     "text": [
      "| | Object: Group\n",
      "| | | (Caching 140305864175472)\n",
      "| | | build mesh time:    0.28 sec\n",
      "| | | discretize time:    0.00 sec\n",
      "| | | edge list:        0.00 sec\n",
      "| | shape render time:    0.29 sec\n",
      "| overall render time:    0.29 sec\n",
      "| create bounding box:    0.00 sec\n",
      "| configure view:       0.03 sec\n",
      "add shapes:             0.33 sec\n",
      "configure display:      0.01 sec\n",
      "Done, using side car 'Gears'\n"
     ]
    },
    {
     "data": {
      "text/plain": [
       "True"
      ]
     },
     "execution_count": 69,
     "metadata": {},
     "output_type": "execute_result"
    }
   ],
   "source": [
    "def curve(t, r, a):\n",
    "    x = np.cos(a + t * 1.0) * r\n",
    "    y = np.sin(a + t * 1.0) * r\n",
    "    z = t * 3.0\n",
    "    return x, y, z\n",
    "    \n",
    "c1 = cq.Workplane('XY').parametricCurve(lambda t: curve(t, 2.0, 0.0), 20, 0.0, np.pi).val()\n",
    "c2 = cq.Workplane('XY').parametricCurve(lambda t: curve(t, 2.0, np.pi / 2.0), 20, 0.0, np.pi).val()\n",
    "c3 = cq.Workplane('XY').parametricCurve(lambda t: curve(t, 2.0, np.pi), 20, 0.0, np.pi).val()\n",
    "c4 = cq.Workplane('XY').parametricCurve(lambda t: curve(t, 2.0, np.pi / 2.0 * 3.0), 20, 0.0, np.pi).val()\n",
    "\n",
    "\n",
    "\n",
    "f1 = cq.Face.makeRuledSurface(c1, c2)\n",
    "f2 = cq.Face.makeRuledSurface(c2, c3)\n",
    "f3 = cq.Face.makeRuledSurface(c3, c4)\n",
    "f4 = cq.Face.makeRuledSurface(c4, c1)\n",
    "\n",
    "sh = cq.Shell.makeShell([f1, f2, f3, f4])\n",
    "body = cq.Solid.makeSolid(sh)\n",
    "\n",
    "show(body)\n",
    "body.exportStl('/home/michael/Downloads/twisted.stl')"
   ]
  },
  {
   "cell_type": "code",
   "execution_count": 75,
   "metadata": {},
   "outputs": [
    {
     "name": "stderr",
     "output_type": "stream",
     "text": [
      "RuntimeWarning: jupyter_cadquery replay is enabled, turn off with disable_replay()"
     ]
    },
    {
     "name": "stdout",
     "output_type": "stream",
     "text": [
      "| | Object: Group\n",
      "| | | (Caching 140305896654832)\n",
      "| | | build mesh time:    0.10 sec\n",
      "| | | discretize time:    0.00 sec\n",
      "| | | edge list:        0.01 sec\n",
      "| | shape render time:    0.10 sec\n",
      "| overall render time:    0.11 sec\n",
      "| create bounding box:    0.00 sec\n",
      "| configure view:       0.05 sec\n",
      "add shapes:             0.16 sec\n",
      "configure display:      0.01 sec\n",
      "Done, using side car 'Gears'\n"
     ]
    },
    {
     "data": {
      "text/plain": [
       "<jupyter_cadquery.cad_display.CadqueryDisplay at 0x7f9ba86a7dc0>"
      ]
     },
     "execution_count": 75,
     "metadata": {},
     "output_type": "execute_result"
    }
   ],
   "source": [
    "c1 = (cq.Workplane('XY')\n",
    "      .parametricCurve(lambda t: curve(t, 2.0, 0.0), 20, 0.0, np.pi)\n",
    "      .val())\n",
    "\n",
    "c2 = (cq.Workplane('XY')\n",
    "      .parametricCurve(lambda t: curve(t, 2.0, np.pi), 20, 0.0, np.pi)\n",
    "      .val())\n",
    "f1 = cq.Face.makeRuledSurface(c1, c2)\n",
    "\n",
    "show(f1)"
   ]
  },
  {
   "cell_type": "code",
   "execution_count": 7,
   "metadata": {},
   "outputs": [
    {
     "name": "stderr",
     "output_type": "stream",
     "text": [
      "RuntimeWarning: jupyter_cadquery replay is enabled, turn off with disable_replay()"
     ]
    }
   ],
   "source": [
    "from OCP.Precision import Precision\n",
    "from OCP.TColgp import TColgp_HArray1OfPnt, TColgp_HArray2OfPnt\n",
    "from OCP.GeomAPI import (\n",
    "    GeomAPI_Interpolate,\n",
    "    GeomAPI_ProjectPointOnSurf,\n",
    "    GeomAPI_PointsToBSpline,\n",
    "    GeomAPI_PointsToBSplineSurface,\n",
    ")\n",
    "from OCP.BRepBuilderAPI import (\n",
    "    BRepBuilderAPI_MakeVertex,\n",
    "    BRepBuilderAPI_MakeEdge,\n",
    "    BRepBuilderAPI_MakeFace,\n",
    "    BRepBuilderAPI_MakePolygon,\n",
    "    BRepBuilderAPI_MakeWire,\n",
    "    BRepBuilderAPI_Sewing,\n",
    "    BRepBuilderAPI_Copy,\n",
    "    BRepBuilderAPI_GTransform,\n",
    "    BRepBuilderAPI_Transform,\n",
    "    BRepBuilderAPI_Transformed,\n",
    "    BRepBuilderAPI_RightCorner,\n",
    "    BRepBuilderAPI_RoundCorner,\n",
    "    BRepBuilderAPI_MakeSolid,\n",
    ")\n",
    "\n",
    "def makeSplineApprox(points, tol=1e-2, smoothing=False, minDeg=1, maxDeg=3):\n",
    "        points_ = TColgp_HArray2OfPnt(1, len(points), 1, len(points[0]))\n",
    "\n",
    "        for i, vi in enumerate(points):\n",
    "            for j, v in enumerate(vi):\n",
    "                v = cq.Vector(*v)\n",
    "                points_.SetValue(i + 1, j + 1, v.toPnt())\n",
    "\n",
    "        if smoothing:\n",
    "            spline_builder = GeomAPI_PointsToBSplineSurface(\n",
    "                points_, *smoothing, DegMax=maxDeg, Tol3D=tol\n",
    "            )\n",
    "        else:\n",
    "            spline_builder = GeomAPI_PointsToBSplineSurface(\n",
    "                points_, DegMin=minDeg, DegMax=maxDeg, Tol3D=tol\n",
    "            )\n",
    "\n",
    "        if not spline_builder.IsDone():\n",
    "            raise ValueError(\"B-spline approximation failed\")\n",
    "\n",
    "        spline_geom = spline_builder.Surface()\n",
    "\n",
    "        return cq.Face(BRepBuilderAPI_MakeFace(spline_geom, Precision.Confusion_s()).Face())"
   ]
  },
  {
   "cell_type": "code",
   "execution_count": 8,
   "metadata": {},
   "outputs": [
    {
     "name": "stderr",
     "output_type": "stream",
     "text": [
      "RuntimeWarning: jupyter_cadquery replay is enabled, turn off with disable_replay()"
     ]
    },
    {
     "name": "stdout",
     "output_type": "stream",
     "text": [
      "| | Object: Group\n",
      "| | | (Caching 140095567492400)\n",
      "| | | build mesh time:    1.26 sec\n",
      "| | | discretize time:    0.00 sec\n",
      "| | | edge list:        0.01 sec\n",
      "| | shape render time:    1.27 sec\n",
      "| overall render time:    1.28 sec\n",
      "| create bounding box:    0.00 sec\n",
      "| configure view:       0.04 sec\n",
      "add shapes:             1.32 sec\n",
      "configure display:      0.04 sec\n",
      "Done, using side car 'Gears'\n"
     ]
    },
    {
     "data": {
      "text/plain": [
       "True"
      ]
     },
     "execution_count": 8,
     "metadata": {},
     "output_type": "execute_result"
    }
   ],
   "source": [
    "r = 2.0\n",
    "\n",
    "t = np.linspace(0.0, np.pi, 20)\n",
    "x1 = np.cos(t * 2.0) * r\n",
    "y1 = np.sin(t * 2.0) * r\n",
    "z1 = t * 3.0\n",
    "\n",
    "x2 = np.cos(np.pi / 2.0 + t * 2.0) * r\n",
    "y2 = np.sin(np.pi / 2.0 + t * 2.0) * r\n",
    "z2 = t * 3.0\n",
    "\n",
    "\n",
    "p1 = np.dstack((x1, y1, z1)).squeeze()\n",
    "p2 = np.dstack((x2, y2, z2)).squeeze()\n",
    "\n",
    "grid = np.stack((p1, p2))\n",
    "\n",
    "f1 = makeSplineApprox(grid)\n",
    "f2 = f1.rotate(cq.Vector(0, 0, 0), cq.Vector(0, 0, 1), 90.0)\n",
    "f3 = f1.rotate(cq.Vector(0, 0, 0), cq.Vector(0, 0, 1), 180.0)\n",
    "f4 = f1.rotate(cq.Vector(0, 0, 0), cq.Vector(0, 0, 1), 270.0)\n",
    "\n",
    "bottom = (cq.Workplane('XY')\n",
    "          .rect(np.sqrt(2 * r ** 2), np.sqrt(2 * r ** 2))\n",
    "          .rotate(cq.Vector(0, 0, 0), cq.Vector(0, 0, 1), 45.0)).val()\n",
    "top = bottom.translate(cq.Vector(0.0, 0.0, np.pi * 3.0))\n",
    "top = cq.Face.makeFromWires(top)\n",
    "bottom = cq.Face.makeFromWires(bottom)\n",
    "\n",
    "sh = cq.Shell.makeShell([bottom, f1, f2, f3, f4, top])\n",
    "body = cq.Solid.makeSolid(sh)\n",
    "\n",
    "body = (cq.Workplane('XZ')\n",
    "        .add(body)\n",
    "        .moveTo(0.0, np.pi * 3.0 / 2.0)\n",
    "        .circle(0.8)\n",
    "        .cutThruAll())\n",
    "\n",
    "show(body)\n",
    "\n",
    "\n",
    "body.val().exportStl('/home/michael/Downloads/twisted.stl')"
   ]
  },
  {
   "cell_type": "code",
   "execution_count": 122,
   "metadata": {},
   "outputs": [
    {
     "name": "stderr",
     "output_type": "stream",
     "text": [
      "RuntimeWarning: jupyter_cadquery replay is enabled, turn off with disable_replay()"
     ]
    },
    {
     "data": {
      "text/plain": [
       "Vector: (-2.0, 2.4492935982947064e-16, 0.0)"
      ]
     },
     "execution_count": 122,
     "metadata": {},
     "output_type": "execute_result"
    }
   ],
   "source": [
    "v = cq.Vector(*grid[1, 0])\n",
    "v\n",
    "# v.toPnt()"
   ]
  },
  {
   "cell_type": "code",
   "execution_count": 89,
   "metadata": {},
   "outputs": [
    {
     "name": "stderr",
     "output_type": "stream",
     "text": [
      "RuntimeWarning: jupyter_cadquery replay is enabled, turn off with disable_replay()"
     ]
    },
    {
     "data": {
      "text/plain": [
       "'2.1'"
      ]
     },
     "execution_count": 89,
     "metadata": {},
     "output_type": "execute_result"
    }
   ],
   "source": [
    "cq.__version__"
   ]
  },
  {
   "cell_type": "code",
   "execution_count": null,
   "metadata": {},
   "outputs": [],
   "source": [
    "TColgp_HArray2OfPnt"
   ]
  }
 ],
 "metadata": {
  "kernelspec": {
   "display_name": "Python 3",
   "language": "python",
   "name": "python3"
  },
  "language_info": {
   "codemirror_mode": {
    "name": "ipython",
    "version": 3
   },
   "file_extension": ".py",
   "mimetype": "text/x-python",
   "name": "python",
   "nbconvert_exporter": "python",
   "pygments_lexer": "ipython3",
   "version": "3.8.8"
  }
 },
 "nbformat": 4,
 "nbformat_minor": 4
}
