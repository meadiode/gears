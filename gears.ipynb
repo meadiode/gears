{
 "cells": [
  {
   "cell_type": "code",
   "execution_count": 8,
   "metadata": {},
   "outputs": [
    {
     "name": "stderr",
     "output_type": "stream",
     "text": [
      "RuntimeWarning: jupyter_cadquery replay is enabled, turn off with disable_replay()"
     ]
    }
   ],
   "source": [
    "import cadquery as cq\n",
    "from jupyter_cadquery.cadquery import (PartGroup, Part, Edges, Faces, Vertices, show, \n",
    "                                       replay, enable_replay, disable_replay, reset_replay)\n",
    "from jupyter_cadquery import set_sidecar, set_defaults\n",
    "\n",
    "show_object = show"
   ]
  },
  {
   "cell_type": "code",
   "execution_count": 9,
   "metadata": {},
   "outputs": [
    {
     "name": "stderr",
     "output_type": "stream",
     "text": [
      "RuntimeWarning: jupyter_cadquery replay is enabled, turn off with disable_replay()"
     ]
    }
   ],
   "source": [
    "set_sidecar(\"Gears\")"
   ]
  },
  {
   "cell_type": "code",
   "execution_count": 10,
   "metadata": {},
   "outputs": [
    {
     "name": "stdout",
     "output_type": "stream",
     "text": [
      "\n",
      "Enabling jupyter_cadquery replay\n"
     ]
    },
    {
     "name": "stderr",
     "output_type": "stream",
     "text": [
      "RuntimeWarning: jupyter_cadquery replay is enabled, turn off with disable_replay()"
     ]
    }
   ],
   "source": [
    "enable_replay()\n",
    "show_object = replay"
   ]
  },
  {
   "cell_type": "code",
   "execution_count": 11,
   "metadata": {},
   "outputs": [
    {
     "name": "stderr",
     "output_type": "stream",
     "text": [
      "RuntimeWarning: jupyter_cadquery replay is enabled, turn off with disable_replay()"
     ]
    }
   ],
   "source": [
    "set_defaults(axes=True, grid=True, axes0=True, edge_accuracy=0.001, timeit=True)"
   ]
  },
  {
   "cell_type": "code",
   "execution_count": 12,
   "metadata": {},
   "outputs": [
    {
     "name": "stderr",
     "output_type": "stream",
     "text": [
      "RuntimeWarning: jupyter_cadquery replay is enabled, turn off with disable_replay()"
     ]
    }
   ],
   "source": [
    "from math import pi, sin, cos, acos, tan, atan, ceil, radians, degrees, floor\n",
    "import numpy as np\n",
    "clearance = 0.05"
   ]
  },
  {
   "cell_type": "code",
   "execution_count": 13,
   "metadata": {},
   "outputs": [
    {
     "name": "stderr",
     "output_type": "stream",
     "text": [
      "RuntimeWarning: jupyter_cadquery replay is enabled, turn off with disable_replay()"
     ]
    }
   ],
   "source": [
    "def copier(solid, vect, number, distance, winkel):\n",
    "    copies = []\n",
    "    \n",
    "    for i in range(number):\n",
    "        copy = solid.rotate((0.0, 0.0, 0.0), (0.0, 0.0, 1.0), i * winkel)\n",
    "        d = distance * i\n",
    "        copy = copy.translate((vect[0] * d, vect[1] * d, vect[2] * d))\n",
    "        copies.append(copy)\n",
    "    \n",
    "    return copies\n",
    "\n",
    "def polar_to_cartesian(polvect):\n",
    "    return (polvect[0] * cos(polvect[1]),\n",
    "            polvect[0] * sin(polvect[1]))\n",
    "\n",
    "\n",
    "#     Circle Involutes-Function:\n",
    "#     Returns the Polar Coordinates of an Involute Circle\n",
    "#     r = Radius of the Base Circle\n",
    "#     rho = Rolling-angle in Degrees\n",
    "def ev(r, rho):\n",
    "    return (r / cos(rho), tan(rho) - rho)\n",
    "\n",
    "def sphere_to_cartesian(vect):\n",
    "    return (vect[0] * sin(vect[1]) * cos(vect[2]),  \n",
    "            vect[0] * sin(vect[1]) * sin(vect[2]),\n",
    "            vect[0] * cos(vect[1]))\n"
   ]
  },
  {
   "cell_type": "code",
   "execution_count": 14,
   "metadata": {},
   "outputs": [
    {
     "name": "stderr",
     "output_type": "stream",
     "text": [
      "RuntimeWarning: jupyter_cadquery replay is enabled, turn off with disable_replay()"
     ]
    },
    {
     "name": "stdout",
     "output_type": "stream",
     "text": [
      "Use the multi select box below to select one or more steps you want to examine\n"
     ]
    },
    {
     "data": {
      "application/vnd.jupyter.widget-view+json": {
       "model_id": "dee88c9678ff444e9a3ab5ed1654bd7d",
       "version_major": 2,
       "version_minor": 0
      },
      "text/plain": [
       "HBox(children=(SelectMultiple(_dom_classes=('monospace',), index=(191,), layout=Layout(width='600px'), options…"
      ]
     },
     "metadata": {},
     "output_type": "display_data"
    },
    {
     "data": {
      "text/plain": [
       "<jupyter_cadquery.cadquery.replay.Replay at 0x7faf9ce266a0>"
      ]
     },
     "execution_count": 14,
     "metadata": {},
     "output_type": "execute_result"
    }
   ],
   "source": [
    "\n",
    "def rack(modul, length, height, width, pressure_angle=20.0, helix_angle=0.0):\n",
    "    # Dimension Calculations\n",
    "    pressure_angle = radians(pressure_angle)\n",
    "    helix_angle = radians(helix_angle)\n",
    "    \n",
    "    modul = modul * (1.0 - clearance)\n",
    "    c = modul / 6.0                                              # Tip Clearance\n",
    "    mx = modul / cos(helix_angle)                                # Module Shift by Helix Angle in the X-Direction\n",
    "    a = 2.0 * mx * tan(pressure_angle) + c * tan(pressure_angle) # Flank Width\n",
    "    b = pi * mx / 2.0 - 2.0 * mx * tan(pressure_angle)           # Tip Width\n",
    "    x = width * tan(helix_angle)                                 # Topside Shift by Helix Angle in the X-Direction\n",
    "    nz = ceil((length + abs(2.0 * x)) / (pi * mx))               # Number of Teeth\n",
    "    \n",
    "    \n",
    "    underside_points = [[0, -c],\n",
    "                        [a, 2.0 * modul],\n",
    "                        [a + b, 2.0 * modul],\n",
    "                        [2.0 * a + b, -c],\n",
    "                        [pi * mx, -c],\n",
    "                        [pi * mx, modul - height],\n",
    "                        [0.0, modul - height]]\n",
    "\n",
    "    topside_points = [[0.0 + x, -c],\n",
    "                      [a + x, 2.0 * modul],\n",
    "                      [a + b + x, 2.0 * modul],\n",
    "                      [2.0 * a + b + x, -c],\n",
    "                      [pi * mx + x, -c],\n",
    "                      [pi * mx + x, modul - height],\n",
    "                      [0.0 + x, modul - height]]\n",
    "    \n",
    "    res = cq.Workplane('XY')\n",
    "    res = res.polyline(underside_points).close()\n",
    "    res = res.workplane(offset=width)\n",
    "    res = res.polyline(topside_points).close()\n",
    "    res = res.loft()\n",
    "    \n",
    "    teeth = copier(res, (1.0, 0.0, 0.0), nz, pi * mx, 0.0)\n",
    "    res = teeth[0]\n",
    "    for t in teeth[1:]:\n",
    "        res = res.union(t)\n",
    "        \n",
    "    box = cq.Workplane().box(length, height + modul + 1.0, width + 1.0, centered=False)\n",
    "    box = box.translate((abs(x), -height + modul - 0.5, -0.5))\n",
    "    res = res.intersect(box)\n",
    "    res = res.translate([-pi * mx * (nz - 1.0) / 2.0 - a - b / 2.0, -modul, 0.0])\n",
    "\n",
    "    return res\n",
    "\n",
    "show_object(rack(modul=1.0, length=60.0, height=5.0, width=20.0, pressure_angle=20.0, helix_angle=0.0))"
   ]
  },
  {
   "cell_type": "code",
   "execution_count": null,
   "metadata": {},
   "outputs": [],
   "source": [
    "\n",
    "def mountable_rack(modul, length, height, width, pressure_angle, helix_angle, fasteners, profile, head):\n",
    "    a_rack = rack(modul, length, height, width, pressure_angle, helix_angle)\n",
    "    offset = length / fasteners;\n",
    "\n",
    "    def ph_screw(idx):\n",
    "        screw = cq.Workplane('XZ')\n",
    "        screw = screw.circle(profile).extrude(profile * 0.6 + modul * 2.25)\n",
    "        screw = screw.faces('>Y').circle(profile / 2.0).extrude(height + modul)\n",
    "        screw = screw.translate((idx * offset + (offset - length) / 2.0, modul, width / 2.0))\n",
    "        return screw\n",
    "    \n",
    "    def cs_screw(idx):\n",
    "        screw = cq.Workplane('XZ')\n",
    "        screw = screw.circle(profile * 1.5 / 2.0).extrude(profile * 1.25 + modul * 2.25)\n",
    "        screw = screw.faces('>Y').circle(profile / 2.0).extrude(height + modul)\n",
    "        screw = screw.translate((idx * offset + (offset - length) / 2.0, modul, width / 2.0))\n",
    "        return screw\n",
    "    \n",
    "    def c_screw(idx):\n",
    "        screw = cq.Workplane('XZ').workplane(modul * 2.25)\n",
    "        screw = screw.circle(profile).workplane(offset=profile / 2.0)\n",
    "        screw = screw.circle(profile / 2.0).loft()\n",
    "        screw = screw.faces('>Y').circle(profile).extrude(-modul * 2.25)\n",
    "        screw = screw.faces('<Y').circle(profile / 2.0).extrude(height + modul)\n",
    "        screw = screw.translate((idx * offset + (offset - length) / 2.0, modul, width / 2.0))\n",
    "        return screw\n",
    "    \n",
    "    def rc_screw(idx):\n",
    "        screw = cq.Workplane('XZ').workplane(modul * 2.25 + profile / 4.0)\n",
    "        screw = screw.circle(profile).workplane(offset=profile / 2.0)\n",
    "        screw = screw.circle(profile / 2.0).loft()\n",
    "        screw = screw.faces('>Y').circle(profile).extrude(-modul * 2.25 - profile / 4.0)\n",
    "        screw = screw.faces('<Y').circle(profile / 2.0).extrude(height + modul)\n",
    "        screw = screw.translate((idx * offset + (offset - length) / 2.0, modul, width / 2.0))\n",
    "        return screw\n",
    "    \n",
    "    def css_screw(idx):\n",
    "        screw = cq.Workplane('XZ').workplane(modul * 2.25)\n",
    "        screw = screw.circle(profile).workplane(offset=profile * 0.6)\n",
    "        screw = screw.circle(profile / 2.0).loft()\n",
    "        screw = screw.faces('>Y').circle(profile).extrude(-modul * 2.25)\n",
    "        screw = screw.faces('<Y').circle(profile / 2.0).extrude(height + modul)\n",
    "        screw = screw.translate((idx * offset + (offset - length) / 2.0, modul, width / 2.0))\n",
    "        return screw\n",
    "    \n",
    "    screw_f = {\n",
    "        'PH': ph_screw,\n",
    "        'CS': cs_screw,\n",
    "        'C': c_screw,\n",
    "        'RC': rc_screw,\n",
    "        'CSS': css_screw,\n",
    "    }[head]\n",
    "    \n",
    "    for i in range(fasteners):\n",
    "        a_rack = a_rack.cut(screw_f(i))\n",
    "    \n",
    "    return a_rack\n",
    "\n",
    "show_object(mountable_rack(modul=1.0, length=60.0, height=10.0, width=20.0,\n",
    "                           pressure_angle=20.0, helix_angle=20.0, profile=3.0, head='CSS',fasteners=3))"
   ]
  },
  {
   "cell_type": "code",
   "execution_count": 15,
   "metadata": {},
   "outputs": [
    {
     "name": "stderr",
     "output_type": "stream",
     "text": [
      "RuntimeWarning: jupyter_cadquery replay is enabled, turn off with disable_replay()"
     ]
    },
    {
     "name": "stdout",
     "output_type": "stream",
     "text": [
      "| | Object: Group\n",
      "| | | (Caching 140392217899824)\n",
      "| | | build mesh time:    0.72 sec\n",
      "| | | discretize time:    0.02 sec\n",
      "| | | edge list:        0.01 sec\n",
      "| | shape render time:    0.76 sec\n",
      "| overall render time:    0.77 sec\n",
      "| create bounding box:    0.22 sec\n",
      "| configure view:       0.03 sec\n",
      "add shapes:             1.03 sec\n",
      "configure display:      0.01 sec\n",
      "Done, using side car 'Gears'\n"
     ]
    },
    {
     "data": {
      "text/plain": [
       "<jupyter_cadquery.cad_display.CadqueryDisplay at 0x7faf9ce5dd00>"
      ]
     },
     "execution_count": 15,
     "metadata": {},
     "output_type": "execute_result"
    }
   ],
   "source": [
    "def spur_gear(modul, tooth_number, width, bore, pressure_angle=20.0, helix_angle=0.0, optimized=True):\n",
    "    # Dimension Calculations\n",
    "    pressure_angle = radians(pressure_angle)\n",
    "    helix_angle = radians(helix_angle)\n",
    "    \n",
    "    d = modul * tooth_number                                   # Pitch Circle Diameter\n",
    "    r = d / 2                                                  # Pitch Circle Radius\n",
    "    alpha_spur = atan(tan(pressure_angle) / cos(helix_angle))  # Helix Angle in Transverse Section\n",
    "    db = d * cos(alpha_spur)                                   # Base Circle Diameter\n",
    "    rb = db / 2                                                # Base Circle Radius\n",
    "    da = (d + modul * 2.2) if modul < 1.0 else d + modul * 2.0 # Tip Diameter according to DIN 58400 or DIN 867\n",
    "    ra = da / 2.0                                              # Tip Circle Radius\n",
    "    c = 0.0 if tooth_number < 3 else modul / 6.0               # Tip Clearance\n",
    "    df = d - 2.0 * (modul + c)                                 # Root Circle Diameter\n",
    "    rf = df / 2.0                                              # Root Radius\n",
    "    rho_ra = acos(rb / ra)                                     # Maximum Rolling Angle;\n",
    "                                                               # Involute begins on the Base Circle and ends at the Tip Circle\n",
    "    rho_r = acos(rb / r)                                       # Rolling Angle at Pitch Circle;\n",
    "                                                               # Involute begins on the Base Circle and ends at the Tip Circle\n",
    "    phi_r = tan(rho_r) - rho_r                                 # Angle to Point of Involute on Pitch Circle\n",
    "    gamma = width / (r * tan(pi / 2.0 - helix_angle))          # Torsion Angle for Extrusion\n",
    "    step = rho_ra / 16                                         # Involute is divided into 16 pieces\n",
    "    tau = pi * 2.0 / tooth_number                              # Pitch Angle\n",
    "    \n",
    "    r_hole = (2.0 * rf - bore) / 8.0                           # Radius of Holes for Material-/Weight-Saving\n",
    "    rm = bore / 2.0 + 2.0 * r_hole                             # Distance of the Axes of the Holes from the Main Axis\n",
    "    z_hole = floor(2 * pi * rm / (3.0 * r_hole))               # Number of Holes for Material-/Weight-Saving\n",
    "    \n",
    "    optimized = (optimized and r >= width * 1.5 and d > 2.0 * bore)   # is Optimization useful?\n",
    "    tooth_width = (pi * (1.0 - clearance)) / tooth_number + 2.0 * phi_r\n",
    "    \n",
    "    def tooth_curve(t, left):\n",
    "        invc = tan(t) - t\n",
    "        rad_ = rb / cos(t)\n",
    "        if left:\n",
    "            return (rad_ * cos(invc),\n",
    "                    rad_ * sin(tooth_width - invc))\n",
    "        else:\n",
    "            return (rad_ * cos(invc),\n",
    "                    rad_ * sin(invc))\n",
    "\n",
    "    tooth = (\n",
    "        cq.Workplane('XY').\n",
    "        # Right side\n",
    "        parametricCurve(lambda t: tooth_curve(t, False), 16, 0.0, rho_ra).\n",
    "        # Tip of the tooth\n",
    "        moveTo(*tooth_curve(rho_ra, False)).lineTo(*tooth_curve(rho_ra, True)).\n",
    "        # Left side\n",
    "        parametricCurve(lambda t: tooth_curve(t, True), 16, 0.0, rho_ra).\n",
    "        # Root\n",
    "        moveTo(*tooth_curve(0.0, True)).lineTo(0.0, 0.0).\n",
    "        lineTo(*tooth_curve(0.0, False)).\n",
    "        consolidateWires()\n",
    "    )\n",
    "        \n",
    "    tooth = tooth.twistExtrude(width, degrees(gamma))\n",
    "    res = cq.Workplane('XY').circle(rf).extrude(width).union(tooth)\n",
    "\n",
    "    for rot in np.arange(tau, pi * 2.0, tau):\n",
    "        res = res.union(tooth.rotate((0.0, 0.0, 0.0), (0.0, 0.0, 1.0), degrees(rot)))\n",
    "        \n",
    "    # \"bore\"\n",
    "    res = res.faces('<Z').circle(rm + r_hole * 1.49).cutThruAll()\n",
    "        \n",
    "    body = cq.Workplane('XY')\n",
    "    \n",
    "    if optimized:\n",
    "        res = (res.faces('<Z').\n",
    "               circle((bore + r_hole) / 2.0).\n",
    "               circle(bore/2).\n",
    "               extrude(width))\n",
    "        \n",
    "        if (width - r_hole / 2.0) < (width * 2.0 / 3.0):\n",
    "            ht = width * 2.0 / 3.0\n",
    "        else:\n",
    "            ht = width - r_hole / 2.0\n",
    "    \n",
    "        body = body.circle(rm + r_hole * 1.51)\n",
    "        body = body.circle((bore + r_hole) / 2.0)\n",
    "        for i in range(z_hole):\n",
    "            pos = sphere_to_cartesian((rm, pi / 2.0, i * pi * 2.0 / z_hole))\n",
    "            body = body.moveTo(pos[0], pos[1]).circle(r_hole)\n",
    "        body = body.consolidateWires().extrude(ht)\n",
    "    else:\n",
    "        body = body.circle(rm + r_hole * 1.51)\n",
    "        body = body.circle(bore / 2.0)\n",
    "        body = body.consolidateWires().extrude(width)\n",
    "\n",
    "    res = res.union(body)\n",
    "    return res\n",
    "    \n",
    "gear = spur_gear(modul=1.0, tooth_number=42, width=5.0, bore=4.0, pressure_angle=20.0, helix_angle=20.0, optimized=True)\n",
    "show(gear)\n"
   ]
  },
  {
   "cell_type": "code",
   "execution_count": null,
   "metadata": {},
   "outputs": [],
   "source": [
    "def spur_gear_profile(module, teeth_number, pressure_angle=20.0):\n",
    "    \n",
    "    \n",
    "    "
   ]
  }
 ],
 "metadata": {
  "kernelspec": {
   "display_name": "Python 3",
   "language": "python",
   "name": "python3"
  },
  "language_info": {
   "codemirror_mode": {
    "name": "ipython",
    "version": 3
   },
   "file_extension": ".py",
   "mimetype": "text/x-python",
   "name": "python",
   "nbconvert_exporter": "python",
   "pygments_lexer": "ipython3",
   "version": "3.8.8"
  }
 },
 "nbformat": 4,
 "nbformat_minor": 4
}
