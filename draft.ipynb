{
 "cells": [
  {
   "cell_type": "code",
   "execution_count": 11,
   "metadata": {},
   "outputs": [],
   "source": [
    "%matplotlib widget"
   ]
  },
  {
   "cell_type": "code",
   "execution_count": 19,
   "metadata": {},
   "outputs": [],
   "source": [
    "import matplotlib.pyplot as plt\n",
    "import numpy as np\n",
    "from math import pi, sin, cos, acos, tan, atan, radians "
   ]
  },
  {
   "cell_type": "code",
   "execution_count": 109,
   "metadata": {},
   "outputs": [],
   "source": [
    "def define_circle(p1, p2, p3):\n",
    "    \"\"\"\n",
    "    Returns the center and radius of the circle passing the given 3 points.\n",
    "    In case the 3 points form a line, returns (None, infinity).\n",
    "    \"\"\"\n",
    "    temp = p2[0] * p2[0] + p2[1] * p2[1]\n",
    "    bc = (p1[0] * p1[0] + p1[1] * p1[1] - temp) / 2\n",
    "    cd = (temp - p3[0] * p3[0] - p3[1] * p3[1]) / 2\n",
    "    det = (p1[0] - p2[0]) * (p2[1] - p3[1]) - (p2[0] - p3[0]) * (p1[1] - p2[1])\n",
    "\n",
    "    if abs(det) < 1.0e-6:\n",
    "        return (None, np.inf)\n",
    "\n",
    "    # Center of circle\n",
    "    cx = (bc*(p2[1] - p3[1]) - cd*(p1[1] - p2[1])) / det\n",
    "    cy = ((p1[0] - p2[0]) * cd - (p2[0] - p3[0]) * bc) / det\n",
    "\n",
    "    radius = np.sqrt((cx - p1[0])**2 + (cy - p1[1])**2)\n",
    "    return ((cx, cy), radius)"
   ]
  },
  {
   "cell_type": "code",
   "execution_count": 154,
   "metadata": {},
   "outputs": [
    {
     "data": {
      "application/vnd.jupyter.widget-view+json": {
       "model_id": "b90594d706874933bedc38792e986e5a",
       "version_major": 2,
       "version_minor": 0
      },
      "text/plain": [
       "Canvas(toolbar=Toolbar(toolitems=[('Home', 'Reset original view', 'home', 'home'), ('Back', 'Back to previous …"
      ]
     },
     "metadata": {},
     "output_type": "display_data"
    }
   ],
   "source": [
    "m = 1.0            # module\n",
    "z = 60             # number of teeth\n",
    "a0 = radians(20.0) # pressure angle\n",
    "c = 0.0           # clearance\n",
    "\n",
    "d0 = m * z         # pitch diameter\n",
    "da = m * (z + 2.0) # addendum circle diameter\n",
    "dd = m * (z - 2.0) - 2.0 * c # dedendum circle diameter\n",
    "s0 = m * (pi / 2.0 + 0.0 * tan(a0)) # tooth thickness on the pitch circle\n",
    "inv_a0 = tan(a0) - a0\n",
    "\n",
    "r0 = d0 / 2.0\n",
    "ra = da / 2.0\n",
    "rd = dd / 2.0\n",
    "\n",
    "npoints = 300\n",
    "\n",
    "t = np.linspace(0.0, pi * 2.0, npoints)\n",
    "\n",
    "db = np.cos(a0) * d0\n",
    "d = np.linspace(db, da, npoints)\n",
    "\n",
    "cos_a = d0 / d * np.cos(a0)\n",
    "# cos_a[np.where(cos_a > 1.0)] = 1.0\n",
    "a = np.arccos(cos_a)\n",
    "inv_a = np.tan(a) - a\n",
    "s = d * (s0 / d0 + inv_a0 - inv_a)\n",
    "phi = (s / 2.0) / (d / 2.0)\n",
    "\n",
    "def gear_points():\n",
    "    curve_points = 20\n",
    "    \n",
    "    rb = np.cos(a0) * d0 / 2.0 # base circle radius\n",
    "    r = np.linspace(rb, ra, curve_points)\n",
    "    cos_a = r0 / r * np.cos(a0)\n",
    "    a = np.arccos(cos_a)\n",
    "    inv_a = np.tan(a) - a\n",
    "    s = r * (s0 / d0 + inv_a0 - inv_a)\n",
    "    phi = s / r\n",
    "    \n",
    "    x = np.cos(phi) * r\n",
    "    y = np.sin(phi) * r\n",
    "    \n",
    "    b = np.linspace(phi[-1], -phi[-1], curve_points)\n",
    "    x = np.concatenate((x, np.cos(b) * ra))\n",
    "    y = np.concatenate((y, np.sin(b) * ra))\n",
    "    \n",
    "    x = np.concatenate((x, (np.cos(-phi) * r)[::-1]))\n",
    "    y = np.concatenate((y, (np.sin(-phi) * r)[::-1]))\n",
    "    \n",
    "    tau = np.pi * 2.0 / z\n",
    "    rho = tau - phi[0] * 2.0\n",
    "    \n",
    "    p1 = (x[-1], y[-1])\n",
    "    p2 = (np.cos(-phi[0] - rho / 2.0) * rd,\n",
    "          np.sin(-phi[0] - rho / 2.0) * rd)\n",
    "    p3 = (np.cos(-phi[0] - rho) * rb,\n",
    "          np.sin(-phi[0] - rho) * rb)\n",
    "    \n",
    "    bcxy, bcr = define_circle(p1, p2, p3)\n",
    "        \n",
    "    t1 = np.arctan2(p1[1] - bcxy[1], p1[0] - bcxy[0])\n",
    "    t2 = np.arctan2(p3[1] - bcxy[1], p3[0] - bcxy[0])\n",
    "    \n",
    "    if t1 < 0.0:\n",
    "        t1 += np.pi * 2.0\n",
    "    if t2 < 0.0:\n",
    "        t2 += np.pi * 2.0\n",
    "        \n",
    "    t1, t2 = min(t1, t2), max(t1, t2)\n",
    "    \n",
    "    t = np.linspace(t1 + np.pi * 2.0, t2 + np.pi * 2.0, curve_points)\n",
    "    \n",
    "    x = np.concatenate((x, bcxy[0] + bcr * np.cos(t)))\n",
    "    y = np.concatenate((y, bcxy[1] + bcr * np.sin(t)))\n",
    "    \n",
    "    res_x, res_y = x.copy(), y.copy()\n",
    "    \n",
    "    angle = -tau\n",
    "    for i in range(z - 1):\n",
    "        res_x = np.concatenate((res_x, x * np.cos(angle) - y * np.sin(angle)))\n",
    "        res_y = np.concatenate((res_y, x * np.sin(angle) + y * np.cos(angle)))\n",
    "        angle -= tau\n",
    "        \n",
    "    return res_x, res_y\n",
    "\n",
    "fig = plt.figure()\n",
    "plt.plot(np.cos(t) * r0, np.sin(t) * r0)\n",
    "plt.plot(np.cos(t) * ra, np.sin(t) * ra)\n",
    "plt.plot(np.cos(t) * rd, np.sin(t) * rd)\n",
    "\n",
    "gx, gy = gear_points()\n",
    "\n",
    "plt.plot(gx, gy)\n",
    "\n",
    "plt.show()"
   ]
  },
  {
   "cell_type": "code",
   "execution_count": 133,
   "metadata": {},
   "outputs": [
    {
     "data": {
      "text/plain": [
       "array([0, 1, 2, 3, 4, 5, 6, 7, 8, 9])"
      ]
     },
     "execution_count": 133,
     "metadata": {},
     "output_type": "execute_result"
    }
   ],
   "source": [
    "x = np.arange(10)\n",
    "x.copy()"
   ]
  },
  {
   "cell_type": "code",
   "execution_count": null,
   "metadata": {},
   "outputs": [],
   "source": []
  }
 ],
 "metadata": {
  "kernelspec": {
   "display_name": "Python 3",
   "language": "python",
   "name": "python3"
  },
  "language_info": {
   "codemirror_mode": {
    "name": "ipython",
    "version": 3
   },
   "file_extension": ".py",
   "mimetype": "text/x-python",
   "name": "python",
   "nbconvert_exporter": "python",
   "pygments_lexer": "ipython3",
   "version": "3.8.8"
  }
 },
 "nbformat": 4,
 "nbformat_minor": 4
}
