{
 "cells": [
  {
   "cell_type": "code",
   "execution_count": 15,
   "metadata": {},
   "outputs": [],
   "source": [
    "%matplotlib widget"
   ]
  },
  {
   "cell_type": "code",
   "execution_count": 16,
   "metadata": {},
   "outputs": [],
   "source": [
    "import matplotlib.pyplot as plt\n",
    "import numpy as np\n",
    "from math import pi, sin, cos, acos, tan, atan, radians "
   ]
  },
  {
   "cell_type": "code",
   "execution_count": 17,
   "metadata": {},
   "outputs": [],
   "source": [
    "def define_circle(p1, p2, p3):\n",
    "    \"\"\"\n",
    "    Returns the center and radius of the circle passing the given 3 points.\n",
    "    In case the 3 points form a line, returns (None, infinity).\n",
    "    \"\"\"\n",
    "    temp = p2[0] * p2[0] + p2[1] * p2[1]\n",
    "    bc = (p1[0] * p1[0] + p1[1] * p1[1] - temp) / 2\n",
    "    cd = (temp - p3[0] * p3[0] - p3[1] * p3[1]) / 2\n",
    "    det = (p1[0] - p2[0]) * (p2[1] - p3[1]) - (p2[0] - p3[0]) * (p1[1] - p2[1])\n",
    "\n",
    "    if abs(det) < 1.0e-6:\n",
    "        return (None, np.inf)\n",
    "\n",
    "    # Center of circle\n",
    "    cx = (bc*(p2[1] - p3[1]) - cd*(p1[1] - p2[1])) / det\n",
    "    cy = ((p1[0] - p2[0]) * cd - (p2[0] - p3[0]) * bc) / det\n",
    "\n",
    "    radius = np.sqrt((cx - p1[0])**2 + (cy - p1[1])**2)\n",
    "    return ((cx, cy), radius)"
   ]
  },
  {
   "cell_type": "code",
   "execution_count": 18,
   "metadata": {},
   "outputs": [
    {
     "data": {
      "application/vnd.jupyter.widget-view+json": {
       "model_id": "3bcf5b854815425ba31c9454aaace9bc",
       "version_major": 2,
       "version_minor": 0
      },
      "text/plain": [
       "Canvas(toolbar=Toolbar(toolitems=[('Home', 'Reset original view', 'home', 'home'), ('Back', 'Back to previous …"
      ]
     },
     "metadata": {},
     "output_type": "display_data"
    }
   ],
   "source": [
    "m = 1.0            # module\n",
    "z = 60             # number of teeth\n",
    "a0 = radians(20.0) # pressure angle\n",
    "c = 0.0           # clearance\n",
    "\n",
    "d0 = m * z         # pitch diameter\n",
    "da = m * (z + 2.0) # addendum circle diameter\n",
    "dd = m * (z - 2.0) - 2.0 * c # dedendum circle diameter\n",
    "s0 = m * (pi / 2.0 + 0.0 * tan(a0)) # tooth thickness on the pitch circle\n",
    "inv_a0 = tan(a0) - a0\n",
    "\n",
    "r0 = d0 / 2.0\n",
    "ra = da / 2.0\n",
    "rd = dd / 2.0\n",
    "\n",
    "npoints = 300\n",
    "\n",
    "t = np.linspace(0.0, pi * 2.0, npoints)\n",
    "\n",
    "db = np.cos(a0) * d0\n",
    "d = np.linspace(db, da, npoints)\n",
    "\n",
    "cos_a = d0 / d * np.cos(a0)\n",
    "# cos_a[np.where(cos_a > 1.0)] = 1.0\n",
    "a = np.arccos(cos_a)\n",
    "inv_a = np.tan(a) - a\n",
    "s = d * (s0 / d0 + inv_a0 - inv_a)\n",
    "phi = (s / 2.0) / (d / 2.0)\n",
    "\n",
    "def gear_points():\n",
    "    curve_points = 20\n",
    "    \n",
    "    rb = np.cos(a0) * d0 / 2.0 # base circle radius\n",
    "    r = np.linspace(rb, ra, curve_points)\n",
    "    cos_a = r0 / r * np.cos(a0)\n",
    "    a = np.arccos(cos_a)\n",
    "    inv_a = np.tan(a) - a\n",
    "    s = r * (s0 / d0 + inv_a0 - inv_a)\n",
    "    phi = s / r\n",
    "    \n",
    "    x = np.cos(phi) * r\n",
    "    y = np.sin(phi) * r\n",
    "    \n",
    "    b = np.linspace(phi[-1], -phi[-1], curve_points)\n",
    "    x = np.concatenate((x, np.cos(b) * ra))\n",
    "    y = np.concatenate((y, np.sin(b) * ra))\n",
    "    \n",
    "    x = np.concatenate((x, (np.cos(-phi) * r)[::-1]))\n",
    "    y = np.concatenate((y, (np.sin(-phi) * r)[::-1]))\n",
    "    \n",
    "    tau = np.pi * 2.0 / z\n",
    "    rho = tau - phi[0] * 2.0\n",
    "    \n",
    "    p1 = (x[-1], y[-1])\n",
    "    p2 = (np.cos(-phi[0] - rho / 2.0) * rd,\n",
    "          np.sin(-phi[0] - rho / 2.0) * rd)\n",
    "    p3 = (np.cos(-phi[0] - rho) * rb,\n",
    "          np.sin(-phi[0] - rho) * rb)\n",
    "    \n",
    "    bcxy, bcr = define_circle(p1, p2, p3)\n",
    "        \n",
    "    t1 = np.arctan2(p1[1] - bcxy[1], p1[0] - bcxy[0])\n",
    "    t2 = np.arctan2(p3[1] - bcxy[1], p3[0] - bcxy[0])\n",
    "    \n",
    "    if t1 < 0.0:\n",
    "        t1 += np.pi * 2.0\n",
    "    if t2 < 0.0:\n",
    "        t2 += np.pi * 2.0\n",
    "        \n",
    "    t1, t2 = min(t1, t2), max(t1, t2)\n",
    "    \n",
    "    t = np.linspace(t1 + np.pi * 2.0, t2 + np.pi * 2.0, curve_points)\n",
    "    \n",
    "    x = np.concatenate((x, bcxy[0] + bcr * np.cos(t)))\n",
    "    y = np.concatenate((y, bcxy[1] + bcr * np.sin(t)))\n",
    "    \n",
    "    res_x, res_y = x.copy(), y.copy()\n",
    "    \n",
    "    angle = -tau\n",
    "    for i in range(z - 1):\n",
    "        res_x = np.concatenate((res_x, x * np.cos(angle) - y * np.sin(angle)))\n",
    "        res_y = np.concatenate((res_y, x * np.sin(angle) + y * np.cos(angle)))\n",
    "        angle -= tau\n",
    "        \n",
    "    return res_x, res_y\n",
    "\n",
    "fig = plt.figure()\n",
    "plt.plot(np.cos(t) * r0, np.sin(t) * r0)\n",
    "plt.plot(np.cos(t) * ra, np.sin(t) * ra)\n",
    "plt.plot(np.cos(t) * rd, np.sin(t) * rd)\n",
    "\n",
    "gx, gy = gear_points()\n",
    "\n",
    "plt.plot(gx, gy)\n",
    "\n",
    "plt.show()"
   ]
  },
  {
   "cell_type": "code",
   "execution_count": 12,
   "metadata": {},
   "outputs": [
    {
     "data": {
      "application/vnd.jupyter.widget-view+json": {
       "model_id": "2faf3ac7c176411b8d839081214be575",
       "version_major": 2,
       "version_minor": 0
      },
      "text/plain": [
       "Canvas(toolbar=Toolbar(toolitems=[('Home', 'Reset original view', 'home', 'home'), ('Back', 'Back to previous …"
      ]
     },
     "metadata": {},
     "output_type": "display_data"
    }
   ],
   "source": [
    "fig = plt.figure()\n",
    "plt.plot((np.cos(t) + t * np.sin(t)),  (np.sin(t) - t * np.cos(t)))\n",
    "plt.show()"
   ]
  },
  {
   "cell_type": "code",
   "execution_count": 13,
   "metadata": {},
   "outputs": [],
   "source": [
    "def senv(theta0, theta):\n",
    "    res = 1.0 / np.sin(theta0) * np.arccos(np.cos(theta) / np.cos(theta0))\n",
    "    res -= np.arccos(np.tan(theta0) / np.tan(theta))\n",
    "    return res\n",
    "\n",
    "def sphere_to_cartesian(r, theta, phi):\n",
    "    return (r * np.sin(theta) * np.cos(phi),\n",
    "            r * np.sin(theta) * np.sin(phi),\n",
    "            r * -np.cos(theta))\n",
    "\n",
    "module = 1.0\n",
    "teeth_number = 16\n",
    "tooth_width = 5.0\n",
    "partial_cone_angle = np.radians(45.0)\n",
    "pressure_angle = np.radians(20.0)\n",
    "helix_angle = np.radians(30.0)\n",
    "\n",
    "d_outside = module * teeth_number;                # Part Cone Diameter at the Cone Base,\n",
    "                                                  # corresponds to the Chord in a Spherical Section\n",
    "r_outside = d_outside / 2.0\n",
    "rg_outside = r_outside / np.sin(partial_cone_angle) # Large-Cone Radius for Outside-Tooth, corresponds to the Length of the Cone-Flank;\n",
    "rg_inside = rg_outside - tooth_width                # Large-Cone Radius for Inside-Tooth  \n",
    "r_inside = r_outside * rg_inside/rg_outside\n",
    "c = module / 6.0                            # Tip Clearance\n",
    "df_outside = d_outside - (module + c) * 2.0 * np.cos(partial_cone_angle)\n",
    "rf_outside = df_outside / 2.0\n",
    "\n",
    "if module < 1.0:\n",
    "    da_outside = d_outside + module * 2.2 * np.cos(partial_cone_angle)\n",
    "else:\n",
    "    da_outside = d_outside + module * 2 * np.cos(partial_cone_angle)\n",
    "\n",
    "ra_outside = da_outside / 2.0\n",
    "delta_a = np.arcsin(ra_outside / rg_outside)\n",
    "\n",
    "alpha_spur = np.arctan(np.tan(pressure_angle) / np.cos(helix_angle)) # Helix Angle in Transverse Section\n",
    "delta_b = np.arcsin(np.cos(alpha_spur) * np.sin(partial_cone_angle)) # Base Cone Angle  \n",
    "delta_f = np.arcsin(rf_outside / rg_outside)\n",
    "\n",
    "phi_r = senv(delta_b, partial_cone_angle) # Angle to Point of Involute on Partial Cone\n",
    "mirrpoint = np.pi / teeth_number + 2.0 * phi_r\n",
    "\n",
    "height_f = rg_outside * np.cos(delta_f)\n",
    "\n",
    "start = max(delta_b, delta_f)\n",
    "\n",
    "step = (delta_a - delta_b) / 16.0;\n",
    "\n",
    "x, y, z = np.ndarray(0), np.ndarray(0), np.ndarray(0)\n",
    "px, py, pz = np.ndarray(0), np.ndarray(0), np.ndarray(0)\n",
    "\n",
    "for tau in np.linspace(0.0, np.pi * 2.0, teeth_number):\n",
    "    delta = np.arange(start, delta_a, step)\n",
    "    phis = senv(delta_b, delta)\n",
    "    rs = np.full(delta.shape[0], rg_outside)\n",
    "    \n",
    "    x1, y1, z1 = sphere_to_cartesian(rs, delta, phis + tau)\n",
    "    x2, y2, z2 = sphere_to_cartesian(rs, delta, mirrpoint - phis + tau)\n",
    "    \n",
    "    x = np.concatenate((x, x1, x2[::-1]))\n",
    "    y = np.concatenate((y, y1, y2[::-1]))\n",
    "    z = np.concatenate((z, z1 + height_f, z2[::-1] + height_f))\n",
    "    \n",
    "    rp = height_f / np.cos(delta)\n",
    "    \n",
    "    px1, py1, pz1 = sphere_to_cartesian(rp, delta, phis + tau)\n",
    "    px2, py2, pz2 = sphere_to_cartesian(rp, delta, mirrpoint - phis + tau)\n",
    "    \n",
    "    px = np.concatenate((px, px1, px2[::-1]))\n",
    "    py = np.concatenate((py, py1, py2[::-1]))\n",
    "    pz = np.concatenate((pz, pz1 + height_f, pz2[::-1] + height_f))"
   ]
  },
  {
   "cell_type": "code",
   "execution_count": 14,
   "metadata": {},
   "outputs": [
    {
     "data": {
      "application/vnd.jupyter.widget-view+json": {
       "model_id": "8b332cbc5ee943a3b20dbac4bd5694f8",
       "version_major": 2,
       "version_minor": 0
      },
      "text/plain": [
       "Canvas(toolbar=Toolbar(toolitems=[('Home', 'Reset original view', 'home', 'home'), ('Back', 'Back to previous …"
      ]
     },
     "metadata": {},
     "output_type": "display_data"
    },
    {
     "data": {
      "text/plain": [
       "[<mpl_toolkits.mplot3d.art3d.Line3D at 0x7fb4e446fe20>]"
      ]
     },
     "execution_count": 14,
     "metadata": {},
     "output_type": "execute_result"
    }
   ],
   "source": [
    "fig = plt.figure()\n",
    "ax = plt.axes(projection='3d')\n",
    "ax.set_xlim3d(-10.0, 10.0)\n",
    "ax.set_ylim3d(-10.0, 10.0)\n",
    "ax.set_zlim3d(0.0, 10.0)\n",
    "ax.plot3D(x, y, z)\n",
    "ax.plot3D(px, py, pz)"
   ]
  },
  {
   "cell_type": "code",
   "execution_count": 30,
   "metadata": {},
   "outputs": [
    {
     "data": {
      "application/vnd.jupyter.widget-view+json": {
       "model_id": "b92789664a2d41d38d89db4ea6fdd06d",
       "version_major": 2,
       "version_minor": 0
      },
      "text/plain": [
       "Canvas(toolbar=Toolbar(toolitems=[('Home', 'Reset original view', 'home', 'home'), ('Back', 'Back to previous …"
      ]
     },
     "metadata": {},
     "output_type": "display_data"
    },
    {
     "data": {
      "text/plain": [
       "[<mpl_toolkits.mplot3d.art3d.Line3D at 0x7f4e6ecc0190>]"
      ]
     },
     "execution_count": 30,
     "metadata": {},
     "output_type": "execute_result"
    }
   ],
   "source": [
    "t = np.linspace(0.0, np.pi * 2, 400)\n",
    "\n",
    "x = np.cos(t) * 10.0\n",
    "y = np.sin(t) * 10.0\n",
    "z = np.sin(t * 16.0) * 0.1\n",
    "\n",
    "fig = plt.figure()\n",
    "ax = plt.axes(projection='3d')\n",
    "\n",
    "ax.plot3D(x, y, z)"
   ]
  },
  {
   "cell_type": "code",
   "execution_count": 109,
   "metadata": {},
   "outputs": [
    {
     "name": "stdout",
     "output_type": "stream",
     "text": [
      "0.6869605922069126 0.7100548958779229\n"
     ]
    }
   ],
   "source": [
    "print(delta_f, delta_b)"
   ]
  },
  {
   "cell_type": "code",
   "execution_count": null,
   "metadata": {},
   "outputs": [],
   "source": []
  }
 ],
 "metadata": {
  "kernelspec": {
   "display_name": "Python 3",
   "language": "python",
   "name": "python3"
  },
  "language_info": {
   "codemirror_mode": {
    "name": "ipython",
    "version": 3
   },
   "file_extension": ".py",
   "mimetype": "text/x-python",
   "name": "python",
   "nbconvert_exporter": "python",
   "pygments_lexer": "ipython3",
   "version": "3.8.8"
  }
 },
 "nbformat": 4,
 "nbformat_minor": 4
}
